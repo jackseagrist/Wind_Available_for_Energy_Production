{
  "nbformat": 4,
  "nbformat_minor": 0,
  "metadata": {
    "colab": {
      "name": "CEE263C_Final.ipynb",
      "provenance": [],
      "collapsed_sections": []
    },
    "kernelspec": {
      "name": "python3",
      "display_name": "Python 3"
    }
  },
  "cells": [
    {
      "cell_type": "markdown",
      "metadata": {
        "id": "i9ocu5lyiNv_"
      },
      "source": [
        "# Setup\n"
      ]
    },
    {
      "cell_type": "code",
      "metadata": {
        "id": "XcPRpf7PhZPa"
      },
      "source": [
        "import pandas as pd\n",
        "import numpy as np\n",
        "from pandas import read_csv\n",
        "from datetime import datetime\n",
        "from math import sqrt\n",
        "from numpy import concatenate\n",
        "import matplotlib.pyplot as plt\n",
        "import datetime\n",
        "import math\n",
        "import seaborn"
      ],
      "execution_count": 1,
      "outputs": []
    },
    {
      "cell_type": "code",
      "metadata": {
        "id": "N6iSMxuMXnWq",
        "colab": {
          "base_uri": "https://localhost:8080/"
        },
        "outputId": "b197ffa4-fbb5-4549-d6e8-523a56e5d80c"
      },
      "source": [
        "pip install metpy"
      ],
      "execution_count": 2,
      "outputs": [
        {
          "output_type": "stream",
          "text": [
            "Collecting metpy\n",
            "\u001b[?25l  Downloading https://files.pythonhosted.org/packages/6c/0e/c63b4a59945259cfc8216135d30f117e277f659461fd2af81d2737d605dc/MetPy-0.12.2-py3-none-any.whl (319kB)\n",
            "\r\u001b[K     |█                               | 10kB 9.6MB/s eta 0:00:01\r\u001b[K     |██                              | 20kB 7.0MB/s eta 0:00:01\r\u001b[K     |███                             | 30kB 5.3MB/s eta 0:00:01\r\u001b[K     |████                            | 40kB 3.0MB/s eta 0:00:01\r\u001b[K     |█████▏                          | 51kB 3.7MB/s eta 0:00:01\r\u001b[K     |██████▏                         | 61kB 3.9MB/s eta 0:00:01\r\u001b[K     |███████▏                        | 71kB 4.2MB/s eta 0:00:01\r\u001b[K     |████████▏                       | 81kB 4.5MB/s eta 0:00:01\r\u001b[K     |█████████▎                      | 92kB 4.8MB/s eta 0:00:01\r\u001b[K     |██████████▎                     | 102kB 5.0MB/s eta 0:00:01\r\u001b[K     |███████████▎                    | 112kB 5.0MB/s eta 0:00:01\r\u001b[K     |████████████▎                   | 122kB 5.0MB/s eta 0:00:01\r\u001b[K     |█████████████▎                  | 133kB 5.0MB/s eta 0:00:01\r\u001b[K     |██████████████▍                 | 143kB 5.0MB/s eta 0:00:01\r\u001b[K     |███████████████▍                | 153kB 5.0MB/s eta 0:00:01\r\u001b[K     |████████████████▍               | 163kB 5.0MB/s eta 0:00:01\r\u001b[K     |█████████████████▍              | 174kB 5.0MB/s eta 0:00:01\r\u001b[K     |██████████████████▌             | 184kB 5.0MB/s eta 0:00:01\r\u001b[K     |███████████████████▌            | 194kB 5.0MB/s eta 0:00:01\r\u001b[K     |████████████████████▌           | 204kB 5.0MB/s eta 0:00:01\r\u001b[K     |█████████████████████▌          | 215kB 5.0MB/s eta 0:00:01\r\u001b[K     |██████████████████████▌         | 225kB 5.0MB/s eta 0:00:01\r\u001b[K     |███████████████████████▋        | 235kB 5.0MB/s eta 0:00:01\r\u001b[K     |████████████████████████▋       | 245kB 5.0MB/s eta 0:00:01\r\u001b[K     |█████████████████████████▋      | 256kB 5.0MB/s eta 0:00:01\r\u001b[K     |██████████████████████████▋     | 266kB 5.0MB/s eta 0:00:01\r\u001b[K     |███████████████████████████▊    | 276kB 5.0MB/s eta 0:00:01\r\u001b[K     |████████████████████████████▊   | 286kB 5.0MB/s eta 0:00:01\r\u001b[K     |█████████████████████████████▊  | 296kB 5.0MB/s eta 0:00:01\r\u001b[K     |██████████████████████████████▊ | 307kB 5.0MB/s eta 0:00:01\r\u001b[K     |███████████████████████████████▉| 317kB 5.0MB/s eta 0:00:01\r\u001b[K     |████████████████████████████████| 327kB 5.0MB/s \n",
            "\u001b[?25hRequirement already satisfied: matplotlib>=2.1.0 in /usr/local/lib/python3.6/dist-packages (from metpy) (3.2.2)\n",
            "Requirement already satisfied: xarray>=0.13.0 in /usr/local/lib/python3.6/dist-packages (from metpy) (0.15.1)\n",
            "Collecting pint>=0.10.1\n",
            "\u001b[?25l  Downloading https://files.pythonhosted.org/packages/5f/0e/dd4fb17aed6bfbc168fd767cffb6ec20b634009b75fd8ea699ea244bff3c/Pint-0.16.1-py2.py3-none-any.whl (205kB)\n",
            "\u001b[K     |████████████████████████████████| 215kB 15.1MB/s \n",
            "\u001b[?25hRequirement already satisfied: traitlets>=4.3.0 in /usr/local/lib/python3.6/dist-packages (from metpy) (4.3.3)\n",
            "Requirement already satisfied: scipy>=1.0 in /usr/local/lib/python3.6/dist-packages (from metpy) (1.4.1)\n",
            "Requirement already satisfied: pandas>=0.22.0 in /usr/local/lib/python3.6/dist-packages (from metpy) (1.1.4)\n",
            "Collecting pooch>=0.1\n",
            "\u001b[?25l  Downloading https://files.pythonhosted.org/packages/ce/11/d7a1dc8173a4085759710e69aae6e070d0d432db84013c7c343e4e522b76/pooch-1.2.0-py3-none-any.whl (47kB)\n",
            "\u001b[K     |████████████████████████████████| 51kB 6.6MB/s \n",
            "\u001b[?25hRequirement already satisfied: numpy>=1.16.0 in /usr/local/lib/python3.6/dist-packages (from metpy) (1.18.5)\n",
            "Requirement already satisfied: kiwisolver>=1.0.1 in /usr/local/lib/python3.6/dist-packages (from matplotlib>=2.1.0->metpy) (1.3.1)\n",
            "Requirement already satisfied: python-dateutil>=2.1 in /usr/local/lib/python3.6/dist-packages (from matplotlib>=2.1.0->metpy) (2.8.1)\n",
            "Requirement already satisfied: pyparsing!=2.0.4,!=2.1.2,!=2.1.6,>=2.0.1 in /usr/local/lib/python3.6/dist-packages (from matplotlib>=2.1.0->metpy) (2.4.7)\n",
            "Requirement already satisfied: cycler>=0.10 in /usr/local/lib/python3.6/dist-packages (from matplotlib>=2.1.0->metpy) (0.10.0)\n",
            "Requirement already satisfied: setuptools>=41.2 in /usr/local/lib/python3.6/dist-packages (from xarray>=0.13.0->metpy) (50.3.2)\n",
            "Requirement already satisfied: importlib-metadata; python_version < \"3.8\" in /usr/local/lib/python3.6/dist-packages (from pint>=0.10.1->metpy) (2.0.0)\n",
            "Requirement already satisfied: packaging in /usr/local/lib/python3.6/dist-packages (from pint>=0.10.1->metpy) (20.4)\n",
            "Requirement already satisfied: importlib-resources; python_version < \"3.7\" in /usr/local/lib/python3.6/dist-packages (from pint>=0.10.1->metpy) (3.3.0)\n",
            "Requirement already satisfied: decorator in /usr/local/lib/python3.6/dist-packages (from traitlets>=4.3.0->metpy) (4.4.2)\n",
            "Requirement already satisfied: six in /usr/local/lib/python3.6/dist-packages (from traitlets>=4.3.0->metpy) (1.15.0)\n",
            "Requirement already satisfied: ipython-genutils in /usr/local/lib/python3.6/dist-packages (from traitlets>=4.3.0->metpy) (0.2.0)\n",
            "Requirement already satisfied: pytz>=2017.2 in /usr/local/lib/python3.6/dist-packages (from pandas>=0.22.0->metpy) (2018.9)\n",
            "Requirement already satisfied: requests in /usr/local/lib/python3.6/dist-packages (from pooch>=0.1->metpy) (2.23.0)\n",
            "Collecting appdirs\n",
            "  Downloading https://files.pythonhosted.org/packages/3b/00/2344469e2084fb287c2e0b57b72910309874c3245463acd6cf5e3db69324/appdirs-1.4.4-py2.py3-none-any.whl\n",
            "Requirement already satisfied: zipp>=0.5 in /usr/local/lib/python3.6/dist-packages (from importlib-metadata; python_version < \"3.8\"->pint>=0.10.1->metpy) (3.4.0)\n",
            "Requirement already satisfied: urllib3!=1.25.0,!=1.25.1,<1.26,>=1.21.1 in /usr/local/lib/python3.6/dist-packages (from requests->pooch>=0.1->metpy) (1.24.3)\n",
            "Requirement already satisfied: idna<3,>=2.5 in /usr/local/lib/python3.6/dist-packages (from requests->pooch>=0.1->metpy) (2.10)\n",
            "Requirement already satisfied: chardet<4,>=3.0.2 in /usr/local/lib/python3.6/dist-packages (from requests->pooch>=0.1->metpy) (3.0.4)\n",
            "Requirement already satisfied: certifi>=2017.4.17 in /usr/local/lib/python3.6/dist-packages (from requests->pooch>=0.1->metpy) (2020.6.20)\n",
            "Installing collected packages: pint, appdirs, pooch, metpy\n",
            "Successfully installed appdirs-1.4.4 metpy-0.12.2 pint-0.16.1 pooch-1.2.0\n"
          ],
          "name": "stdout"
        }
      ]
    },
    {
      "cell_type": "code",
      "metadata": {
        "id": "iCcfn-dGXrcv"
      },
      "source": [
        "import metpy.calc as mpcalc"
      ],
      "execution_count": 3,
      "outputs": []
    },
    {
      "cell_type": "code",
      "metadata": {
        "id": "0LMd0XIhiWVu",
        "colab": {
          "base_uri": "https://localhost:8080/"
        },
        "outputId": "6d468917-2523-433d-9af1-e0fd5ab053ad"
      },
      "source": [
        "from google.colab import drive\n",
        "drive.mount('/content/drive')"
      ],
      "execution_count": 4,
      "outputs": [
        {
          "output_type": "stream",
          "text": [
            "Mounted at /content/drive\n"
          ],
          "name": "stdout"
        }
      ]
    },
    {
      "cell_type": "markdown",
      "metadata": {
        "id": "wpJn6Jl2ijgc"
      },
      "source": [
        "# Import Data"
      ]
    },
    {
      "cell_type": "code",
      "metadata": {
        "id": "X44jzZIviZtb"
      },
      "source": [
        "# Load CSV data file\n",
        "\n",
        "Data_all = pd.read_csv('/content/drive/My Drive/Grad School/Stanford - Q4 2020-2021/CEE 263C/Term Paper/Data/NOAA_2018_north_all.csv')"
      ],
      "execution_count": 5,
      "outputs": []
    },
    {
      "cell_type": "code",
      "metadata": {
        "id": "eHM2QHPZjDLH",
        "colab": {
          "base_uri": "https://localhost:8080/",
          "height": 214
        },
        "outputId": "919455ac-ca01-4e70-a6d1-dd22777bcfc2"
      },
      "source": [
        "# Checking data imported correctly\n",
        "\n",
        "print(len(Data_all))\n",
        "Data_all.head()"
      ],
      "execution_count": 6,
      "outputs": [
        {
          "output_type": "stream",
          "text": [
            "2913\n"
          ],
          "name": "stdout"
        },
        {
          "output_type": "execute_result",
          "data": {
            "text/html": [
              "<div>\n",
              "<style scoped>\n",
              "    .dataframe tbody tr th:only-of-type {\n",
              "        vertical-align: middle;\n",
              "    }\n",
              "\n",
              "    .dataframe tbody tr th {\n",
              "        vertical-align: top;\n",
              "    }\n",
              "\n",
              "    .dataframe thead th {\n",
              "        text-align: right;\n",
              "    }\n",
              "</style>\n",
              "<table border=\"1\" class=\"dataframe\">\n",
              "  <thead>\n",
              "    <tr style=\"text-align: right;\">\n",
              "      <th></th>\n",
              "      <th>time (UTC)</th>\n",
              "      <th>latitude (degrees_north)</th>\n",
              "      <th>longitude (degrees_east)</th>\n",
              "      <th>tmpsfc (K)</th>\n",
              "      <th>tmp2m (K)</th>\n",
              "      <th>ugrd10m (m s-1)</th>\n",
              "      <th>vgrd10m (m s-1)</th>\n",
              "      <th>pratesfc (kg m-2 s-1)</th>\n",
              "      <th>rh2m (%)</th>\n",
              "      <th>prmslmsl (Pa)</th>\n",
              "      <th>dlwrfsfc (W m-2)</th>\n",
              "      <th>dswrfsfc (W m-2)</th>\n",
              "    </tr>\n",
              "  </thead>\n",
              "  <tbody>\n",
              "    <tr>\n",
              "      <th>0</th>\n",
              "      <td>2018-01-01T12:00:00Z</td>\n",
              "      <td>38.0</td>\n",
              "      <td>58.0</td>\n",
              "      <td>287.87296</td>\n",
              "      <td>289.52072</td>\n",
              "      <td>-1.654617</td>\n",
              "      <td>0.965122</td>\n",
              "      <td>NaN</td>\n",
              "      <td>19.307024</td>\n",
              "      <td>101252.050</td>\n",
              "      <td>NaN</td>\n",
              "      <td>NaN</td>\n",
              "    </tr>\n",
              "    <tr>\n",
              "      <th>1</th>\n",
              "      <td>2018-01-01T15:00:00Z</td>\n",
              "      <td>38.0</td>\n",
              "      <td>58.0</td>\n",
              "      <td>282.30330</td>\n",
              "      <td>285.71680</td>\n",
              "      <td>0.030881</td>\n",
              "      <td>1.948872</td>\n",
              "      <td>0.0</td>\n",
              "      <td>23.900000</td>\n",
              "      <td>101214.586</td>\n",
              "      <td>282.00000</td>\n",
              "      <td>10.0</td>\n",
              "    </tr>\n",
              "    <tr>\n",
              "      <th>2</th>\n",
              "      <td>2018-01-01T18:00:00Z</td>\n",
              "      <td>38.0</td>\n",
              "      <td>58.0</td>\n",
              "      <td>280.58080</td>\n",
              "      <td>284.64194</td>\n",
              "      <td>0.507683</td>\n",
              "      <td>2.110371</td>\n",
              "      <td>0.0</td>\n",
              "      <td>24.100000</td>\n",
              "      <td>101047.586</td>\n",
              "      <td>276.63098</td>\n",
              "      <td>10.0</td>\n",
              "    </tr>\n",
              "    <tr>\n",
              "      <th>3</th>\n",
              "      <td>2018-01-01T21:00:00Z</td>\n",
              "      <td>38.0</td>\n",
              "      <td>58.0</td>\n",
              "      <td>279.59222</td>\n",
              "      <td>284.16950</td>\n",
              "      <td>0.835078</td>\n",
              "      <td>2.283294</td>\n",
              "      <td>0.0</td>\n",
              "      <td>23.300001</td>\n",
              "      <td>100830.130</td>\n",
              "      <td>269.90836</td>\n",
              "      <td>0.0</td>\n",
              "    </tr>\n",
              "    <tr>\n",
              "      <th>4</th>\n",
              "      <td>2018-01-02T00:00:00Z</td>\n",
              "      <td>38.0</td>\n",
              "      <td>58.0</td>\n",
              "      <td>279.38390</td>\n",
              "      <td>284.28410</td>\n",
              "      <td>1.225317</td>\n",
              "      <td>2.577678</td>\n",
              "      <td>0.0</td>\n",
              "      <td>22.500000</td>\n",
              "      <td>100611.414</td>\n",
              "      <td>272.36440</td>\n",
              "      <td>0.0</td>\n",
              "    </tr>\n",
              "  </tbody>\n",
              "</table>\n",
              "</div>"
            ],
            "text/plain": [
              "             time (UTC)  ...  dswrfsfc (W m-2)\n",
              "0  2018-01-01T12:00:00Z  ...               NaN\n",
              "1  2018-01-01T15:00:00Z  ...              10.0\n",
              "2  2018-01-01T18:00:00Z  ...              10.0\n",
              "3  2018-01-01T21:00:00Z  ...               0.0\n",
              "4  2018-01-02T00:00:00Z  ...               0.0\n",
              "\n",
              "[5 rows x 12 columns]"
            ]
          },
          "metadata": {
            "tags": []
          },
          "execution_count": 6
        }
      ]
    },
    {
      "cell_type": "code",
      "metadata": {
        "id": "1SEdfsOOjS5_",
        "colab": {
          "base_uri": "https://localhost:8080/",
          "height": 789
        },
        "outputId": "947381a6-58d8-4922-df2e-695a8a0280c2"
      },
      "source": [
        "# Plot data to check data is sound\n",
        "\n",
        "length = 100\n",
        "x = Data_all['time (UTC)'][0:length]\n",
        "y = Data_all['tmpsfc (K)'][0:length]\n",
        "x = Data_all['time (UTC)'][0:length]\n",
        "y2 = Data_all['tmp2m (K)'][0:length]\n",
        "\n",
        "plt.figure(figsize=(13,13))\n",
        "plt.plot(x,y,x,y2)"
      ],
      "execution_count": 7,
      "outputs": [
        {
          "output_type": "execute_result",
          "data": {
            "text/plain": [
              "[<matplotlib.lines.Line2D at 0x7f77a4494278>,\n",
              " <matplotlib.lines.Line2D at 0x7f77a4494550>]"
            ]
          },
          "metadata": {
            "tags": []
          },
          "execution_count": 7
        },
        {
          "output_type": "display_data",
          "data": {
            "image/png": "[encoded data removed]",
            "text/plain": [
              "<Figure size 936x936 with 1 Axes>"
            ]
          },
          "metadata": {
            "tags": [],
            "needs_background": "light"
          }
        }
      ]
    },
    {
      "cell_type": "markdown",
      "metadata": {
        "id": "nqTQQv0Z5IJ2"
      },
      "source": [
        "# Average by day of year"
      ]
    },
    {
      "cell_type": "code",
      "metadata": {
        "id": "R78WdesU5LYG"
      },
      "source": [
        "# THe next few cells set time to datetime data type and set the index of the data frame to time\n",
        "\n",
        "Data_all.rename(columns={'time (UTC)': 'time'}, inplace=True)"
      ],
      "execution_count": 8,
      "outputs": []
    },
    {
      "cell_type": "code",
      "metadata": {
        "id": "ZS6jWNb35RDD"
      },
      "source": [
        "Data_all['time'] = pd.to_datetime(Data_all['time'])"
      ],
      "execution_count": 9,
      "outputs": []
    },
    {
      "cell_type": "code",
      "metadata": {
        "id": "PJPg0uyb5RFv"
      },
      "source": [
        "Data_all = Data_all.set_index('time')"
      ],
      "execution_count": 10,
      "outputs": []
    },
    {
      "cell_type": "code",
      "metadata": {
        "id": "yCoocXH15Laz",
        "colab": {
          "base_uri": "https://localhost:8080/",
          "height": 227
        },
        "outputId": "450dcba3-3462-4e17-8714-a1b735f99578"
      },
      "source": [
        "Data_all.head()"
      ],
      "execution_count": 11,
      "outputs": [
        {
          "output_type": "execute_result",
          "data": {
            "text/html": [
              "<div>\n",
              "<style scoped>\n",
              "    .dataframe tbody tr th:only-of-type {\n",
              "        vertical-align: middle;\n",
              "    }\n",
              "\n",
              "    .dataframe tbody tr th {\n",
              "        vertical-align: top;\n",
              "    }\n",
              "\n",
              "    .dataframe thead th {\n",
              "        text-align: right;\n",
              "    }\n",
              "</style>\n",
              "<table border=\"1\" class=\"dataframe\">\n",
              "  <thead>\n",
              "    <tr style=\"text-align: right;\">\n",
              "      <th></th>\n",
              "      <th>latitude (degrees_north)</th>\n",
              "      <th>longitude (degrees_east)</th>\n",
              "      <th>tmpsfc (K)</th>\n",
              "      <th>tmp2m (K)</th>\n",
              "      <th>ugrd10m (m s-1)</th>\n",
              "      <th>vgrd10m (m s-1)</th>\n",
              "      <th>pratesfc (kg m-2 s-1)</th>\n",
              "      <th>rh2m (%)</th>\n",
              "      <th>prmslmsl (Pa)</th>\n",
              "      <th>dlwrfsfc (W m-2)</th>\n",
              "      <th>dswrfsfc (W m-2)</th>\n",
              "    </tr>\n",
              "    <tr>\n",
              "      <th>time</th>\n",
              "      <th></th>\n",
              "      <th></th>\n",
              "      <th></th>\n",
              "      <th></th>\n",
              "      <th></th>\n",
              "      <th></th>\n",
              "      <th></th>\n",
              "      <th></th>\n",
              "      <th></th>\n",
              "      <th></th>\n",
              "      <th></th>\n",
              "    </tr>\n",
              "  </thead>\n",
              "  <tbody>\n",
              "    <tr>\n",
              "      <th>2018-01-01 12:00:00+00:00</th>\n",
              "      <td>38.0</td>\n",
              "      <td>58.0</td>\n",
              "      <td>287.87296</td>\n",
              "      <td>289.52072</td>\n",
              "      <td>-1.654617</td>\n",
              "      <td>0.965122</td>\n",
              "      <td>NaN</td>\n",
              "      <td>19.307024</td>\n",
              "      <td>101252.050</td>\n",
              "      <td>NaN</td>\n",
              "      <td>NaN</td>\n",
              "    </tr>\n",
              "    <tr>\n",
              "      <th>2018-01-01 15:00:00+00:00</th>\n",
              "      <td>38.0</td>\n",
              "      <td>58.0</td>\n",
              "      <td>282.30330</td>\n",
              "      <td>285.71680</td>\n",
              "      <td>0.030881</td>\n",
              "      <td>1.948872</td>\n",
              "      <td>0.0</td>\n",
              "      <td>23.900000</td>\n",
              "      <td>101214.586</td>\n",
              "      <td>282.00000</td>\n",
              "      <td>10.0</td>\n",
              "    </tr>\n",
              "    <tr>\n",
              "      <th>2018-01-01 18:00:00+00:00</th>\n",
              "      <td>38.0</td>\n",
              "      <td>58.0</td>\n",
              "      <td>280.58080</td>\n",
              "      <td>284.64194</td>\n",
              "      <td>0.507683</td>\n",
              "      <td>2.110371</td>\n",
              "      <td>0.0</td>\n",
              "      <td>24.100000</td>\n",
              "      <td>101047.586</td>\n",
              "      <td>276.63098</td>\n",
              "      <td>10.0</td>\n",
              "    </tr>\n",
              "    <tr>\n",
              "      <th>2018-01-01 21:00:00+00:00</th>\n",
              "      <td>38.0</td>\n",
              "      <td>58.0</td>\n",
              "      <td>279.59222</td>\n",
              "      <td>284.16950</td>\n",
              "      <td>0.835078</td>\n",
              "      <td>2.283294</td>\n",
              "      <td>0.0</td>\n",
              "      <td>23.300001</td>\n",
              "      <td>100830.130</td>\n",
              "      <td>269.90836</td>\n",
              "      <td>0.0</td>\n",
              "    </tr>\n",
              "    <tr>\n",
              "      <th>2018-01-02 00:00:00+00:00</th>\n",
              "      <td>38.0</td>\n",
              "      <td>58.0</td>\n",
              "      <td>279.38390</td>\n",
              "      <td>284.28410</td>\n",
              "      <td>1.225317</td>\n",
              "      <td>2.577678</td>\n",
              "      <td>0.0</td>\n",
              "      <td>22.500000</td>\n",
              "      <td>100611.414</td>\n",
              "      <td>272.36440</td>\n",
              "      <td>0.0</td>\n",
              "    </tr>\n",
              "  </tbody>\n",
              "</table>\n",
              "</div>"
            ],
            "text/plain": [
              "                           latitude (degrees_north)  ...  dswrfsfc (W m-2)\n",
              "time                                                 ...                  \n",
              "2018-01-01 12:00:00+00:00                      38.0  ...               NaN\n",
              "2018-01-01 15:00:00+00:00                      38.0  ...              10.0\n",
              "2018-01-01 18:00:00+00:00                      38.0  ...              10.0\n",
              "2018-01-01 21:00:00+00:00                      38.0  ...               0.0\n",
              "2018-01-02 00:00:00+00:00                      38.0  ...               0.0\n",
              "\n",
              "[5 rows x 11 columns]"
            ]
          },
          "metadata": {
            "tags": []
          },
          "execution_count": 11
        }
      ]
    },
    {
      "cell_type": "code",
      "metadata": {
        "id": "55l0t42s5Ldx"
      },
      "source": [
        "# Calculate the average of the five main components we are interested in by day of year\n",
        "\n",
        "avg_u = np.array(Data_all.groupby([(Data_all.index.month), (Data_all.index.day)])['ugrd10m (m s-1)'].mean())\n",
        "avg_v = np.array(Data_all.groupby([(Data_all.index.month), (Data_all.index.day)])['vgrd10m (m s-1)'].mean())\n",
        "avg_rh = np.array(Data_all.groupby([(Data_all.index.month), (Data_all.index.day)])['rh2m (%)'].mean())\n",
        "avg_t = np.array(Data_all.groupby([(Data_all.index.month), (Data_all.index.day)])['tmpsfc (K)'].mean())\n",
        "avg_t2m = np.array(Data_all.groupby([(Data_all.index.month), (Data_all.index.day)])['tmp2m (K)'].mean())\n",
        "avg_p = np.array(Data_all.groupby([(Data_all.index.month), (Data_all.index.day)])['prmslmsl (Pa)'].mean())"
      ],
      "execution_count": 12,
      "outputs": []
    },
    {
      "cell_type": "code",
      "metadata": {
        "id": "frKasy8J5LhA",
        "colab": {
          "base_uri": "https://localhost:8080/",
          "height": 405
        },
        "outputId": "cab09599-3f42-4a1c-b826-f326bf2fbaa0"
      },
      "source": [
        "# Converting average np arrays back to pd dataframe\n",
        "\n",
        "Data_all_avg = pd.date_range(start='1/1/2018', end='12/31/2018', freq='D')\n",
        "Data_all_avg = pd.DataFrame(Data_all_avg, columns=['time'])\n",
        "Data_all_avg['ugrd10m (m s-1)'] = pd.DataFrame(avg_u)\n",
        "Data_all_avg['vgrd10m (m s-1)'] = pd.DataFrame(avg_v)\n",
        "Data_all_avg['rh2m (%)'] = pd.DataFrame(avg_rh)\n",
        "Data_all_avg['tmpsfc (K)'] = pd.DataFrame(avg_t)\n",
        "Data_all_avg['tmp2m (K)'] = pd.DataFrame(avg_t2m)\n",
        "Data_all_avg['Sea Level Pressure (Pa)'] = pd.DataFrame(avg_p)\n",
        "Data_all_avg"
      ],
      "execution_count": 13,
      "outputs": [
        {
          "output_type": "execute_result",
          "data": {
            "text/html": [
              "<div>\n",
              "<style scoped>\n",
              "    .dataframe tbody tr th:only-of-type {\n",
              "        vertical-align: middle;\n",
              "    }\n",
              "\n",
              "    .dataframe tbody tr th {\n",
              "        vertical-align: top;\n",
              "    }\n",
              "\n",
              "    .dataframe thead th {\n",
              "        text-align: right;\n",
              "    }\n",
              "</style>\n",
              "<table border=\"1\" class=\"dataframe\">\n",
              "  <thead>\n",
              "    <tr style=\"text-align: right;\">\n",
              "      <th></th>\n",
              "      <th>time</th>\n",
              "      <th>ugrd10m (m s-1)</th>\n",
              "      <th>vgrd10m (m s-1)</th>\n",
              "      <th>rh2m (%)</th>\n",
              "      <th>tmpsfc (K)</th>\n",
              "      <th>tmp2m (K)</th>\n",
              "      <th>Sea Level Pressure (Pa)</th>\n",
              "    </tr>\n",
              "  </thead>\n",
              "  <tbody>\n",
              "    <tr>\n",
              "      <th>0</th>\n",
              "      <td>2018-01-01</td>\n",
              "      <td>-0.070244</td>\n",
              "      <td>1.826915</td>\n",
              "      <td>22.651756</td>\n",
              "      <td>282.587320</td>\n",
              "      <td>286.012240</td>\n",
              "      <td>101086.088000</td>\n",
              "    </tr>\n",
              "    <tr>\n",
              "      <th>1</th>\n",
              "      <td>2018-01-02</td>\n",
              "      <td>1.269307</td>\n",
              "      <td>0.518547</td>\n",
              "      <td>28.338639</td>\n",
              "      <td>284.354002</td>\n",
              "      <td>285.181348</td>\n",
              "      <td>100613.050500</td>\n",
              "    </tr>\n",
              "    <tr>\n",
              "      <th>2</th>\n",
              "      <td>2018-01-03</td>\n",
              "      <td>0.906660</td>\n",
              "      <td>0.850309</td>\n",
              "      <td>60.967446</td>\n",
              "      <td>281.484155</td>\n",
              "      <td>280.822850</td>\n",
              "      <td>101375.239500</td>\n",
              "    </tr>\n",
              "    <tr>\n",
              "      <th>3</th>\n",
              "      <td>2018-01-04</td>\n",
              "      <td>0.140965</td>\n",
              "      <td>1.113001</td>\n",
              "      <td>61.667871</td>\n",
              "      <td>280.902554</td>\n",
              "      <td>279.483244</td>\n",
              "      <td>101816.490000</td>\n",
              "    </tr>\n",
              "    <tr>\n",
              "      <th>4</th>\n",
              "      <td>2018-01-05</td>\n",
              "      <td>-0.659297</td>\n",
              "      <td>0.921091</td>\n",
              "      <td>46.563653</td>\n",
              "      <td>279.938299</td>\n",
              "      <td>280.202139</td>\n",
              "      <td>101338.338125</td>\n",
              "    </tr>\n",
              "    <tr>\n",
              "      <th>...</th>\n",
              "      <td>...</td>\n",
              "      <td>...</td>\n",
              "      <td>...</td>\n",
              "      <td>...</td>\n",
              "      <td>...</td>\n",
              "      <td>...</td>\n",
              "      <td>...</td>\n",
              "    </tr>\n",
              "    <tr>\n",
              "      <th>360</th>\n",
              "      <td>2018-12-27</td>\n",
              "      <td>1.725643</td>\n",
              "      <td>3.618721</td>\n",
              "      <td>22.028694</td>\n",
              "      <td>284.481719</td>\n",
              "      <td>286.606084</td>\n",
              "      <td>101563.219500</td>\n",
              "    </tr>\n",
              "    <tr>\n",
              "      <th>361</th>\n",
              "      <td>2018-12-28</td>\n",
              "      <td>0.860411</td>\n",
              "      <td>1.187227</td>\n",
              "      <td>29.196002</td>\n",
              "      <td>282.972500</td>\n",
              "      <td>284.470825</td>\n",
              "      <td>101046.371250</td>\n",
              "    </tr>\n",
              "    <tr>\n",
              "      <th>362</th>\n",
              "      <td>2018-12-29</td>\n",
              "      <td>0.048003</td>\n",
              "      <td>-1.288886</td>\n",
              "      <td>75.564311</td>\n",
              "      <td>277.513865</td>\n",
              "      <td>275.725635</td>\n",
              "      <td>102211.427000</td>\n",
              "    </tr>\n",
              "    <tr>\n",
              "      <th>363</th>\n",
              "      <td>2018-12-30</td>\n",
              "      <td>-2.072063</td>\n",
              "      <td>0.655616</td>\n",
              "      <td>59.826888</td>\n",
              "      <td>276.397744</td>\n",
              "      <td>276.056969</td>\n",
              "      <td>102469.298250</td>\n",
              "    </tr>\n",
              "    <tr>\n",
              "      <th>364</th>\n",
              "      <td>2018-12-31</td>\n",
              "      <td>-1.365887</td>\n",
              "      <td>0.140708</td>\n",
              "      <td>56.920000</td>\n",
              "      <td>278.915424</td>\n",
              "      <td>277.387050</td>\n",
              "      <td>102272.028000</td>\n",
              "    </tr>\n",
              "  </tbody>\n",
              "</table>\n",
              "<p>365 rows × 7 columns</p>\n",
              "</div>"
            ],
            "text/plain": [
              "          time  ugrd10m (m s-1)  ...   tmp2m (K)  Sea Level Pressure (Pa)\n",
              "0   2018-01-01        -0.070244  ...  286.012240            101086.088000\n",
              "1   2018-01-02         1.269307  ...  285.181348            100613.050500\n",
              "2   2018-01-03         0.906660  ...  280.822850            101375.239500\n",
              "3   2018-01-04         0.140965  ...  279.483244            101816.490000\n",
              "4   2018-01-05        -0.659297  ...  280.202139            101338.338125\n",
              "..         ...              ...  ...         ...                      ...\n",
              "360 2018-12-27         1.725643  ...  286.606084            101563.219500\n",
              "361 2018-12-28         0.860411  ...  284.470825            101046.371250\n",
              "362 2018-12-29         0.048003  ...  275.725635            102211.427000\n",
              "363 2018-12-30        -2.072063  ...  276.056969            102469.298250\n",
              "364 2018-12-31        -1.365887  ...  277.387050            102272.028000\n",
              "\n",
              "[365 rows x 7 columns]"
            ]
          },
          "metadata": {
            "tags": []
          },
          "execution_count": 13
        }
      ]
    },
    {
      "cell_type": "markdown",
      "metadata": {
        "id": "UNXZwOP1S13b"
      },
      "source": [
        "# Functions to Calculate Wind Speed and Direction"
      ]
    },
    {
      "cell_type": "code",
      "metadata": {
        "id": "cEB4hAeQpbKQ"
      },
      "source": [
        "# Calculate speed from u and v wind vectors\n",
        "\n",
        "def speed(u, v):\n",
        "  spd = np.sqrt(np.square(u) + np.square(v))\n",
        "  return spd"
      ],
      "execution_count": 14,
      "outputs": []
    },
    {
      "cell_type": "code",
      "metadata": {
        "id": "WcgkTJfRTB7l"
      },
      "source": [
        "# Calculate wind direction by finding angle of wind vector\n",
        "\n",
        "def direction(u, v):\n",
        "  dir = (270-np.rad2deg(np.arctan2(v,u)))%360\n",
        "  return dir"
      ],
      "execution_count": 15,
      "outputs": []
    },
    {
      "cell_type": "markdown",
      "metadata": {
        "id": "-Tuw8iSLTumH"
      },
      "source": [
        "# Find Wind Speed and Direction for Data"
      ]
    },
    {
      "cell_type": "code",
      "metadata": {
        "id": "eTdyi19GTzVD",
        "colab": {
          "base_uri": "https://localhost:8080/",
          "height": 197
        },
        "outputId": "fe0090b9-04e8-49a5-ca02-2bb9ae319496"
      },
      "source": [
        "Data_all_avg.head()"
      ],
      "execution_count": 16,
      "outputs": [
        {
          "output_type": "execute_result",
          "data": {
            "text/html": [
              "<div>\n",
              "<style scoped>\n",
              "    .dataframe tbody tr th:only-of-type {\n",
              "        vertical-align: middle;\n",
              "    }\n",
              "\n",
              "    .dataframe tbody tr th {\n",
              "        vertical-align: top;\n",
              "    }\n",
              "\n",
              "    .dataframe thead th {\n",
              "        text-align: right;\n",
              "    }\n",
              "</style>\n",
              "<table border=\"1\" class=\"dataframe\">\n",
              "  <thead>\n",
              "    <tr style=\"text-align: right;\">\n",
              "      <th></th>\n",
              "      <th>time</th>\n",
              "      <th>ugrd10m (m s-1)</th>\n",
              "      <th>vgrd10m (m s-1)</th>\n",
              "      <th>rh2m (%)</th>\n",
              "      <th>tmpsfc (K)</th>\n",
              "      <th>tmp2m (K)</th>\n",
              "      <th>Sea Level Pressure (Pa)</th>\n",
              "    </tr>\n",
              "  </thead>\n",
              "  <tbody>\n",
              "    <tr>\n",
              "      <th>0</th>\n",
              "      <td>2018-01-01</td>\n",
              "      <td>-0.070244</td>\n",
              "      <td>1.826915</td>\n",
              "      <td>22.651756</td>\n",
              "      <td>282.587320</td>\n",
              "      <td>286.012240</td>\n",
              "      <td>101086.088000</td>\n",
              "    </tr>\n",
              "    <tr>\n",
              "      <th>1</th>\n",
              "      <td>2018-01-02</td>\n",
              "      <td>1.269307</td>\n",
              "      <td>0.518547</td>\n",
              "      <td>28.338639</td>\n",
              "      <td>284.354002</td>\n",
              "      <td>285.181348</td>\n",
              "      <td>100613.050500</td>\n",
              "    </tr>\n",
              "    <tr>\n",
              "      <th>2</th>\n",
              "      <td>2018-01-03</td>\n",
              "      <td>0.906660</td>\n",
              "      <td>0.850309</td>\n",
              "      <td>60.967446</td>\n",
              "      <td>281.484155</td>\n",
              "      <td>280.822850</td>\n",
              "      <td>101375.239500</td>\n",
              "    </tr>\n",
              "    <tr>\n",
              "      <th>3</th>\n",
              "      <td>2018-01-04</td>\n",
              "      <td>0.140965</td>\n",
              "      <td>1.113001</td>\n",
              "      <td>61.667871</td>\n",
              "      <td>280.902554</td>\n",
              "      <td>279.483244</td>\n",
              "      <td>101816.490000</td>\n",
              "    </tr>\n",
              "    <tr>\n",
              "      <th>4</th>\n",
              "      <td>2018-01-05</td>\n",
              "      <td>-0.659297</td>\n",
              "      <td>0.921091</td>\n",
              "      <td>46.563653</td>\n",
              "      <td>279.938299</td>\n",
              "      <td>280.202139</td>\n",
              "      <td>101338.338125</td>\n",
              "    </tr>\n",
              "  </tbody>\n",
              "</table>\n",
              "</div>"
            ],
            "text/plain": [
              "        time  ugrd10m (m s-1)  ...   tmp2m (K)  Sea Level Pressure (Pa)\n",
              "0 2018-01-01        -0.070244  ...  286.012240            101086.088000\n",
              "1 2018-01-02         1.269307  ...  285.181348            100613.050500\n",
              "2 2018-01-03         0.906660  ...  280.822850            101375.239500\n",
              "3 2018-01-04         0.140965  ...  279.483244            101816.490000\n",
              "4 2018-01-05        -0.659297  ...  280.202139            101338.338125\n",
              "\n",
              "[5 rows x 7 columns]"
            ]
          },
          "metadata": {
            "tags": []
          },
          "execution_count": 16
        }
      ]
    },
    {
      "cell_type": "code",
      "metadata": {
        "id": "z_v9tHEFT3DA"
      },
      "source": [
        "# Vectorized calculation of wind speed for the northern stations\n",
        "\n",
        "data_speed = speed(np.array(Data_all_avg['ugrd10m (m s-1)']), np.array(Data_all_avg['vgrd10m (m s-1)']))\n",
        "data_dir = direction(np.array(Data_all_avg['ugrd10m (m s-1)']), np.array(Data_all_avg['vgrd10m (m s-1)']))"
      ],
      "execution_count": 17,
      "outputs": []
    },
    {
      "cell_type": "code",
      "metadata": {
        "id": "0t8EgLzfUIf2"
      },
      "source": [
        "# Convert array to dataframe and add to north station data\n",
        "\n",
        "data_speed_df = pd.DataFrame(data=data_speed, columns=['Wind Speed (m/s)'])\n",
        "data_dir_df = pd.DataFrame(data=data_dir, columns=['Wind Dir'])\n",
        "\n",
        "Data_all_avg['Wind Speed (m/s)'] = data_speed_df\n",
        "Data_all_avg['Wind Dir'] = data_dir_df"
      ],
      "execution_count": 18,
      "outputs": []
    },
    {
      "cell_type": "code",
      "metadata": {
        "id": "9qAOGQyZUckA",
        "colab": {
          "base_uri": "https://localhost:8080/",
          "height": 197
        },
        "outputId": "277da73f-4252-4096-fc22-96811e1e968d"
      },
      "source": [
        "Data_all_avg.head()"
      ],
      "execution_count": 19,
      "outputs": [
        {
          "output_type": "execute_result",
          "data": {
            "text/html": [
              "<div>\n",
              "<style scoped>\n",
              "    .dataframe tbody tr th:only-of-type {\n",
              "        vertical-align: middle;\n",
              "    }\n",
              "\n",
              "    .dataframe tbody tr th {\n",
              "        vertical-align: top;\n",
              "    }\n",
              "\n",
              "    .dataframe thead th {\n",
              "        text-align: right;\n",
              "    }\n",
              "</style>\n",
              "<table border=\"1\" class=\"dataframe\">\n",
              "  <thead>\n",
              "    <tr style=\"text-align: right;\">\n",
              "      <th></th>\n",
              "      <th>time</th>\n",
              "      <th>ugrd10m (m s-1)</th>\n",
              "      <th>vgrd10m (m s-1)</th>\n",
              "      <th>rh2m (%)</th>\n",
              "      <th>tmpsfc (K)</th>\n",
              "      <th>tmp2m (K)</th>\n",
              "      <th>Sea Level Pressure (Pa)</th>\n",
              "      <th>Wind Speed (m/s)</th>\n",
              "      <th>Wind Dir</th>\n",
              "    </tr>\n",
              "  </thead>\n",
              "  <tbody>\n",
              "    <tr>\n",
              "      <th>0</th>\n",
              "      <td>2018-01-01</td>\n",
              "      <td>-0.070244</td>\n",
              "      <td>1.826915</td>\n",
              "      <td>22.651756</td>\n",
              "      <td>282.587320</td>\n",
              "      <td>286.012240</td>\n",
              "      <td>101086.088000</td>\n",
              "      <td>1.828265</td>\n",
              "      <td>177.798104</td>\n",
              "    </tr>\n",
              "    <tr>\n",
              "      <th>1</th>\n",
              "      <td>2018-01-02</td>\n",
              "      <td>1.269307</td>\n",
              "      <td>0.518547</td>\n",
              "      <td>28.338639</td>\n",
              "      <td>284.354002</td>\n",
              "      <td>285.181348</td>\n",
              "      <td>100613.050500</td>\n",
              "      <td>1.371142</td>\n",
              "      <td>247.778608</td>\n",
              "    </tr>\n",
              "    <tr>\n",
              "      <th>2</th>\n",
              "      <td>2018-01-03</td>\n",
              "      <td>0.906660</td>\n",
              "      <td>0.850309</td>\n",
              "      <td>60.967446</td>\n",
              "      <td>281.484155</td>\n",
              "      <td>280.822850</td>\n",
              "      <td>101375.239500</td>\n",
              "      <td>1.243004</td>\n",
              "      <td>226.837023</td>\n",
              "    </tr>\n",
              "    <tr>\n",
              "      <th>3</th>\n",
              "      <td>2018-01-04</td>\n",
              "      <td>0.140965</td>\n",
              "      <td>1.113001</td>\n",
              "      <td>61.667871</td>\n",
              "      <td>280.902554</td>\n",
              "      <td>279.483244</td>\n",
              "      <td>101816.490000</td>\n",
              "      <td>1.121892</td>\n",
              "      <td>187.218237</td>\n",
              "    </tr>\n",
              "    <tr>\n",
              "      <th>4</th>\n",
              "      <td>2018-01-05</td>\n",
              "      <td>-0.659297</td>\n",
              "      <td>0.921091</td>\n",
              "      <td>46.563653</td>\n",
              "      <td>279.938299</td>\n",
              "      <td>280.202139</td>\n",
              "      <td>101338.338125</td>\n",
              "      <td>1.132732</td>\n",
              "      <td>144.405745</td>\n",
              "    </tr>\n",
              "  </tbody>\n",
              "</table>\n",
              "</div>"
            ],
            "text/plain": [
              "        time  ugrd10m (m s-1)  ...  Wind Speed (m/s)    Wind Dir\n",
              "0 2018-01-01        -0.070244  ...          1.828265  177.798104\n",
              "1 2018-01-02         1.269307  ...          1.371142  247.778608\n",
              "2 2018-01-03         0.906660  ...          1.243004  226.837023\n",
              "3 2018-01-04         0.140965  ...          1.121892  187.218237\n",
              "4 2018-01-05        -0.659297  ...          1.132732  144.405745\n",
              "\n",
              "[5 rows x 9 columns]"
            ]
          },
          "metadata": {
            "tags": []
          },
          "execution_count": 19
        }
      ]
    },
    {
      "cell_type": "code",
      "metadata": {
        "id": "qIFY7cpWxcl0",
        "colab": {
          "base_uri": "https://localhost:8080/"
        },
        "outputId": "56cbadd5-e6b8-44e5-f462-960b9d2485f5"
      },
      "source": [
        "Data_all_avg['Wind Speed (m/s)'].dropna"
      ],
      "execution_count": 20,
      "outputs": [
        {
          "output_type": "execute_result",
          "data": {
            "text/plain": [
              "<bound method Series.dropna of 0      1.828265\n",
              "1      1.371142\n",
              "2      1.243004\n",
              "3      1.121892\n",
              "4      1.132732\n",
              "         ...   \n",
              "360    4.009113\n",
              "361    1.466225\n",
              "362    1.289780\n",
              "363    2.173310\n",
              "364    1.373115\n",
              "Name: Wind Speed (m/s), Length: 365, dtype: float64>"
            ]
          },
          "metadata": {
            "tags": []
          },
          "execution_count": 20
        }
      ]
    },
    {
      "cell_type": "code",
      "metadata": {
        "id": "uig_gkYbxjrF",
        "colab": {
          "base_uri": "https://localhost:8080/",
          "height": 405
        },
        "outputId": "5b5f07cd-cb66-499c-c953-a7c714709c64"
      },
      "source": [
        "Data_all_avg"
      ],
      "execution_count": 21,
      "outputs": [
        {
          "output_type": "execute_result",
          "data": {
            "text/html": [
              "<div>\n",
              "<style scoped>\n",
              "    .dataframe tbody tr th:only-of-type {\n",
              "        vertical-align: middle;\n",
              "    }\n",
              "\n",
              "    .dataframe tbody tr th {\n",
              "        vertical-align: top;\n",
              "    }\n",
              "\n",
              "    .dataframe thead th {\n",
              "        text-align: right;\n",
              "    }\n",
              "</style>\n",
              "<table border=\"1\" class=\"dataframe\">\n",
              "  <thead>\n",
              "    <tr style=\"text-align: right;\">\n",
              "      <th></th>\n",
              "      <th>time</th>\n",
              "      <th>ugrd10m (m s-1)</th>\n",
              "      <th>vgrd10m (m s-1)</th>\n",
              "      <th>rh2m (%)</th>\n",
              "      <th>tmpsfc (K)</th>\n",
              "      <th>tmp2m (K)</th>\n",
              "      <th>Sea Level Pressure (Pa)</th>\n",
              "      <th>Wind Speed (m/s)</th>\n",
              "      <th>Wind Dir</th>\n",
              "    </tr>\n",
              "  </thead>\n",
              "  <tbody>\n",
              "    <tr>\n",
              "      <th>0</th>\n",
              "      <td>2018-01-01</td>\n",
              "      <td>-0.070244</td>\n",
              "      <td>1.826915</td>\n",
              "      <td>22.651756</td>\n",
              "      <td>282.587320</td>\n",
              "      <td>286.012240</td>\n",
              "      <td>101086.088000</td>\n",
              "      <td>1.828265</td>\n",
              "      <td>177.798104</td>\n",
              "    </tr>\n",
              "    <tr>\n",
              "      <th>1</th>\n",
              "      <td>2018-01-02</td>\n",
              "      <td>1.269307</td>\n",
              "      <td>0.518547</td>\n",
              "      <td>28.338639</td>\n",
              "      <td>284.354002</td>\n",
              "      <td>285.181348</td>\n",
              "      <td>100613.050500</td>\n",
              "      <td>1.371142</td>\n",
              "      <td>247.778608</td>\n",
              "    </tr>\n",
              "    <tr>\n",
              "      <th>2</th>\n",
              "      <td>2018-01-03</td>\n",
              "      <td>0.906660</td>\n",
              "      <td>0.850309</td>\n",
              "      <td>60.967446</td>\n",
              "      <td>281.484155</td>\n",
              "      <td>280.822850</td>\n",
              "      <td>101375.239500</td>\n",
              "      <td>1.243004</td>\n",
              "      <td>226.837023</td>\n",
              "    </tr>\n",
              "    <tr>\n",
              "      <th>3</th>\n",
              "      <td>2018-01-04</td>\n",
              "      <td>0.140965</td>\n",
              "      <td>1.113001</td>\n",
              "      <td>61.667871</td>\n",
              "      <td>280.902554</td>\n",
              "      <td>279.483244</td>\n",
              "      <td>101816.490000</td>\n",
              "      <td>1.121892</td>\n",
              "      <td>187.218237</td>\n",
              "    </tr>\n",
              "    <tr>\n",
              "      <th>4</th>\n",
              "      <td>2018-01-05</td>\n",
              "      <td>-0.659297</td>\n",
              "      <td>0.921091</td>\n",
              "      <td>46.563653</td>\n",
              "      <td>279.938299</td>\n",
              "      <td>280.202139</td>\n",
              "      <td>101338.338125</td>\n",
              "      <td>1.132732</td>\n",
              "      <td>144.405745</td>\n",
              "    </tr>\n",
              "    <tr>\n",
              "      <th>...</th>\n",
              "      <td>...</td>\n",
              "      <td>...</td>\n",
              "      <td>...</td>\n",
              "      <td>...</td>\n",
              "      <td>...</td>\n",
              "      <td>...</td>\n",
              "      <td>...</td>\n",
              "      <td>...</td>\n",
              "      <td>...</td>\n",
              "    </tr>\n",
              "    <tr>\n",
              "      <th>360</th>\n",
              "      <td>2018-12-27</td>\n",
              "      <td>1.725643</td>\n",
              "      <td>3.618721</td>\n",
              "      <td>22.028694</td>\n",
              "      <td>284.481719</td>\n",
              "      <td>286.606084</td>\n",
              "      <td>101563.219500</td>\n",
              "      <td>4.009113</td>\n",
              "      <td>205.494867</td>\n",
              "    </tr>\n",
              "    <tr>\n",
              "      <th>361</th>\n",
              "      <td>2018-12-28</td>\n",
              "      <td>0.860411</td>\n",
              "      <td>1.187227</td>\n",
              "      <td>29.196002</td>\n",
              "      <td>282.972500</td>\n",
              "      <td>284.470825</td>\n",
              "      <td>101046.371250</td>\n",
              "      <td>1.466225</td>\n",
              "      <td>215.931724</td>\n",
              "    </tr>\n",
              "    <tr>\n",
              "      <th>362</th>\n",
              "      <td>2018-12-29</td>\n",
              "      <td>0.048003</td>\n",
              "      <td>-1.288886</td>\n",
              "      <td>75.564311</td>\n",
              "      <td>277.513865</td>\n",
              "      <td>275.725635</td>\n",
              "      <td>102211.427000</td>\n",
              "      <td>1.289780</td>\n",
              "      <td>357.867091</td>\n",
              "    </tr>\n",
              "    <tr>\n",
              "      <th>363</th>\n",
              "      <td>2018-12-30</td>\n",
              "      <td>-2.072063</td>\n",
              "      <td>0.655616</td>\n",
              "      <td>59.826888</td>\n",
              "      <td>276.397744</td>\n",
              "      <td>276.056969</td>\n",
              "      <td>102469.298250</td>\n",
              "      <td>2.173310</td>\n",
              "      <td>107.557766</td>\n",
              "    </tr>\n",
              "    <tr>\n",
              "      <th>364</th>\n",
              "      <td>2018-12-31</td>\n",
              "      <td>-1.365887</td>\n",
              "      <td>0.140708</td>\n",
              "      <td>56.920000</td>\n",
              "      <td>278.915424</td>\n",
              "      <td>277.387050</td>\n",
              "      <td>102272.028000</td>\n",
              "      <td>1.373115</td>\n",
              "      <td>95.881608</td>\n",
              "    </tr>\n",
              "  </tbody>\n",
              "</table>\n",
              "<p>365 rows × 9 columns</p>\n",
              "</div>"
            ],
            "text/plain": [
              "          time  ugrd10m (m s-1)  ...  Wind Speed (m/s)    Wind Dir\n",
              "0   2018-01-01        -0.070244  ...          1.828265  177.798104\n",
              "1   2018-01-02         1.269307  ...          1.371142  247.778608\n",
              "2   2018-01-03         0.906660  ...          1.243004  226.837023\n",
              "3   2018-01-04         0.140965  ...          1.121892  187.218237\n",
              "4   2018-01-05        -0.659297  ...          1.132732  144.405745\n",
              "..         ...              ...  ...               ...         ...\n",
              "360 2018-12-27         1.725643  ...          4.009113  205.494867\n",
              "361 2018-12-28         0.860411  ...          1.466225  215.931724\n",
              "362 2018-12-29         0.048003  ...          1.289780  357.867091\n",
              "363 2018-12-30        -2.072063  ...          2.173310  107.557766\n",
              "364 2018-12-31        -1.365887  ...          1.373115   95.881608\n",
              "\n",
              "[365 rows x 9 columns]"
            ]
          },
          "metadata": {
            "tags": []
          },
          "execution_count": 21
        }
      ]
    },
    {
      "cell_type": "markdown",
      "metadata": {
        "id": "LNuA4ZBvhMr5"
      },
      "source": [
        "# Convert wind speed from measurement at 10m to 60m\n",
        "\n",
        "Use the wind shear equation https://www.engineeringtoolbox.com/wind-shear-d_1215.html \n",
        "\n",
        "where:\n",
        "\n",
        "alpha = .25 for hills\n",
        "vo = calculated wind speed (m/s)\n",
        "v = solving for\n",
        "ho = 10m\n",
        "h = 60m"
      ]
    },
    {
      "cell_type": "code",
      "metadata": {
        "id": "mSPl5BCRhMQa"
      },
      "source": [
        "# Setup variables\n",
        "alpha = .25\n",
        "h_orig = 10\n",
        "h_final = 60"
      ],
      "execution_count": 22,
      "outputs": []
    },
    {
      "cell_type": "code",
      "metadata": {
        "id": "5ogJ0Oe2iyLz"
      },
      "source": [
        "# Calc wind speed @ 60m\n",
        "\n",
        "v_final = np.array(Data_all_avg['Wind Speed (m/s)']) * (h_final/h_orig)**alpha\n",
        "Data_all_avg['Wind Speed (m/s) @ 60m'] = pd.DataFrame(v_final)"
      ],
      "execution_count": 23,
      "outputs": []
    },
    {
      "cell_type": "code",
      "metadata": {
        "colab": {
          "base_uri": "https://localhost:8080/",
          "height": 197
        },
        "id": "iygGVoNJiyUO",
        "outputId": "92d12ee2-ed13-4728-8071-f47247ec4d28"
      },
      "source": [
        "Data_all_avg.head()"
      ],
      "execution_count": 24,
      "outputs": [
        {
          "output_type": "execute_result",
          "data": {
            "text/html": [
              "<div>\n",
              "<style scoped>\n",
              "    .dataframe tbody tr th:only-of-type {\n",
              "        vertical-align: middle;\n",
              "    }\n",
              "\n",
              "    .dataframe tbody tr th {\n",
              "        vertical-align: top;\n",
              "    }\n",
              "\n",
              "    .dataframe thead th {\n",
              "        text-align: right;\n",
              "    }\n",
              "</style>\n",
              "<table border=\"1\" class=\"dataframe\">\n",
              "  <thead>\n",
              "    <tr style=\"text-align: right;\">\n",
              "      <th></th>\n",
              "      <th>time</th>\n",
              "      <th>ugrd10m (m s-1)</th>\n",
              "      <th>vgrd10m (m s-1)</th>\n",
              "      <th>rh2m (%)</th>\n",
              "      <th>tmpsfc (K)</th>\n",
              "      <th>tmp2m (K)</th>\n",
              "      <th>Sea Level Pressure (Pa)</th>\n",
              "      <th>Wind Speed (m/s)</th>\n",
              "      <th>Wind Dir</th>\n",
              "      <th>Wind Speed (m/s) @ 60m</th>\n",
              "    </tr>\n",
              "  </thead>\n",
              "  <tbody>\n",
              "    <tr>\n",
              "      <th>0</th>\n",
              "      <td>2018-01-01</td>\n",
              "      <td>-0.070244</td>\n",
              "      <td>1.826915</td>\n",
              "      <td>22.651756</td>\n",
              "      <td>282.587320</td>\n",
              "      <td>286.012240</td>\n",
              "      <td>101086.088000</td>\n",
              "      <td>1.828265</td>\n",
              "      <td>177.798104</td>\n",
              "      <td>2.861389</td>\n",
              "    </tr>\n",
              "    <tr>\n",
              "      <th>1</th>\n",
              "      <td>2018-01-02</td>\n",
              "      <td>1.269307</td>\n",
              "      <td>0.518547</td>\n",
              "      <td>28.338639</td>\n",
              "      <td>284.354002</td>\n",
              "      <td>285.181348</td>\n",
              "      <td>100613.050500</td>\n",
              "      <td>1.371142</td>\n",
              "      <td>247.778608</td>\n",
              "      <td>2.145953</td>\n",
              "    </tr>\n",
              "    <tr>\n",
              "      <th>2</th>\n",
              "      <td>2018-01-03</td>\n",
              "      <td>0.906660</td>\n",
              "      <td>0.850309</td>\n",
              "      <td>60.967446</td>\n",
              "      <td>281.484155</td>\n",
              "      <td>280.822850</td>\n",
              "      <td>101375.239500</td>\n",
              "      <td>1.243004</td>\n",
              "      <td>226.837023</td>\n",
              "      <td>1.945406</td>\n",
              "    </tr>\n",
              "    <tr>\n",
              "      <th>3</th>\n",
              "      <td>2018-01-04</td>\n",
              "      <td>0.140965</td>\n",
              "      <td>1.113001</td>\n",
              "      <td>61.667871</td>\n",
              "      <td>280.902554</td>\n",
              "      <td>279.483244</td>\n",
              "      <td>101816.490000</td>\n",
              "      <td>1.121892</td>\n",
              "      <td>187.218237</td>\n",
              "      <td>1.755856</td>\n",
              "    </tr>\n",
              "    <tr>\n",
              "      <th>4</th>\n",
              "      <td>2018-01-05</td>\n",
              "      <td>-0.659297</td>\n",
              "      <td>0.921091</td>\n",
              "      <td>46.563653</td>\n",
              "      <td>279.938299</td>\n",
              "      <td>280.202139</td>\n",
              "      <td>101338.338125</td>\n",
              "      <td>1.132732</td>\n",
              "      <td>144.405745</td>\n",
              "      <td>1.772821</td>\n",
              "    </tr>\n",
              "  </tbody>\n",
              "</table>\n",
              "</div>"
            ],
            "text/plain": [
              "        time  ugrd10m (m s-1)  ...    Wind Dir  Wind Speed (m/s) @ 60m\n",
              "0 2018-01-01        -0.070244  ...  177.798104                2.861389\n",
              "1 2018-01-02         1.269307  ...  247.778608                2.145953\n",
              "2 2018-01-03         0.906660  ...  226.837023                1.945406\n",
              "3 2018-01-04         0.140965  ...  187.218237                1.755856\n",
              "4 2018-01-05        -0.659297  ...  144.405745                1.772821\n",
              "\n",
              "[5 rows x 10 columns]"
            ]
          },
          "metadata": {
            "tags": []
          },
          "execution_count": 24
        }
      ]
    },
    {
      "cell_type": "markdown",
      "metadata": {
        "id": "wuexSNKi8rDq"
      },
      "source": [
        "# Calculated Potential Power Output"
      ]
    },
    {
      "cell_type": "code",
      "metadata": {
        "id": "Kx-ZOi3580mO"
      },
      "source": [
        "# Power output equation can be found in paper, equal to P (Watts) = .5 * densityofair * Rotorsweptarea * velocty**3\n",
        "\n",
        "air_density = 1.225\n",
        "\n",
        "# Rotor radius for High Winds project is 40 meters (Vestas V80-1.8 turbine)\n",
        "\n",
        "swept_area = math.pi * (40**2)"
      ],
      "execution_count": 25,
      "outputs": []
    },
    {
      "cell_type": "code",
      "metadata": {
        "id": "86lpOqTi80ow"
      },
      "source": [
        "# Now calculate the power output for each day and add as new column on dataframe\n",
        "\n",
        "power = .5 * air_density * swept_area * np.array(Data_all_avg['Wind Speed (m/s) @ 60m'])**3\n",
        "Data_all_avg['Power (W)'] = pd.DataFrame(power)"
      ],
      "execution_count": 26,
      "outputs": []
    },
    {
      "cell_type": "code",
      "metadata": {
        "id": "BPHiwDir80wT",
        "colab": {
          "base_uri": "https://localhost:8080/",
          "height": 197
        },
        "outputId": "7e1b93b8-38e2-404b-c538-7fdcd2d4ca11"
      },
      "source": [
        "Data_all_avg.head()"
      ],
      "execution_count": 27,
      "outputs": [
        {
          "output_type": "execute_result",
          "data": {
            "text/html": [
              "<div>\n",
              "<style scoped>\n",
              "    .dataframe tbody tr th:only-of-type {\n",
              "        vertical-align: middle;\n",
              "    }\n",
              "\n",
              "    .dataframe tbody tr th {\n",
              "        vertical-align: top;\n",
              "    }\n",
              "\n",
              "    .dataframe thead th {\n",
              "        text-align: right;\n",
              "    }\n",
              "</style>\n",
              "<table border=\"1\" class=\"dataframe\">\n",
              "  <thead>\n",
              "    <tr style=\"text-align: right;\">\n",
              "      <th></th>\n",
              "      <th>time</th>\n",
              "      <th>ugrd10m (m s-1)</th>\n",
              "      <th>vgrd10m (m s-1)</th>\n",
              "      <th>rh2m (%)</th>\n",
              "      <th>tmpsfc (K)</th>\n",
              "      <th>tmp2m (K)</th>\n",
              "      <th>Sea Level Pressure (Pa)</th>\n",
              "      <th>Wind Speed (m/s)</th>\n",
              "      <th>Wind Dir</th>\n",
              "      <th>Wind Speed (m/s) @ 60m</th>\n",
              "      <th>Power (W)</th>\n",
              "    </tr>\n",
              "  </thead>\n",
              "  <tbody>\n",
              "    <tr>\n",
              "      <th>0</th>\n",
              "      <td>2018-01-01</td>\n",
              "      <td>-0.070244</td>\n",
              "      <td>1.826915</td>\n",
              "      <td>22.651756</td>\n",
              "      <td>282.587320</td>\n",
              "      <td>286.012240</td>\n",
              "      <td>101086.088000</td>\n",
              "      <td>1.828265</td>\n",
              "      <td>177.798104</td>\n",
              "      <td>2.861389</td>\n",
              "      <td>72128.432829</td>\n",
              "    </tr>\n",
              "    <tr>\n",
              "      <th>1</th>\n",
              "      <td>2018-01-02</td>\n",
              "      <td>1.269307</td>\n",
              "      <td>0.518547</td>\n",
              "      <td>28.338639</td>\n",
              "      <td>284.354002</td>\n",
              "      <td>285.181348</td>\n",
              "      <td>100613.050500</td>\n",
              "      <td>1.371142</td>\n",
              "      <td>247.778608</td>\n",
              "      <td>2.145953</td>\n",
              "      <td>30425.434154</td>\n",
              "    </tr>\n",
              "    <tr>\n",
              "      <th>2</th>\n",
              "      <td>2018-01-03</td>\n",
              "      <td>0.906660</td>\n",
              "      <td>0.850309</td>\n",
              "      <td>60.967446</td>\n",
              "      <td>281.484155</td>\n",
              "      <td>280.822850</td>\n",
              "      <td>101375.239500</td>\n",
              "      <td>1.243004</td>\n",
              "      <td>226.837023</td>\n",
              "      <td>1.945406</td>\n",
              "      <td>22667.664700</td>\n",
              "    </tr>\n",
              "    <tr>\n",
              "      <th>3</th>\n",
              "      <td>2018-01-04</td>\n",
              "      <td>0.140965</td>\n",
              "      <td>1.113001</td>\n",
              "      <td>61.667871</td>\n",
              "      <td>280.902554</td>\n",
              "      <td>279.483244</td>\n",
              "      <td>101816.490000</td>\n",
              "      <td>1.121892</td>\n",
              "      <td>187.218237</td>\n",
              "      <td>1.755856</td>\n",
              "      <td>16666.443001</td>\n",
              "    </tr>\n",
              "    <tr>\n",
              "      <th>4</th>\n",
              "      <td>2018-01-05</td>\n",
              "      <td>-0.659297</td>\n",
              "      <td>0.921091</td>\n",
              "      <td>46.563653</td>\n",
              "      <td>279.938299</td>\n",
              "      <td>280.202139</td>\n",
              "      <td>101338.338125</td>\n",
              "      <td>1.132732</td>\n",
              "      <td>144.405745</td>\n",
              "      <td>1.772821</td>\n",
              "      <td>17154.210999</td>\n",
              "    </tr>\n",
              "  </tbody>\n",
              "</table>\n",
              "</div>"
            ],
            "text/plain": [
              "        time  ugrd10m (m s-1)  ...  Wind Speed (m/s) @ 60m     Power (W)\n",
              "0 2018-01-01        -0.070244  ...                2.861389  72128.432829\n",
              "1 2018-01-02         1.269307  ...                2.145953  30425.434154\n",
              "2 2018-01-03         0.906660  ...                1.945406  22667.664700\n",
              "3 2018-01-04         0.140965  ...                1.755856  16666.443001\n",
              "4 2018-01-05        -0.659297  ...                1.772821  17154.210999\n",
              "\n",
              "[5 rows x 11 columns]"
            ]
          },
          "metadata": {
            "tags": []
          },
          "execution_count": 27
        }
      ]
    },
    {
      "cell_type": "code",
      "metadata": {
        "id": "EshaWnujEbnw"
      },
      "source": [
        "# Now multiply that power by 90 to get total potential output from high winds farm\n",
        "\n",
        "power_all = (np.array(Data_all_avg['Power (W)']) * 90) / 1000000\n",
        "Data_all_avg['Power All (MW)'] = pd.DataFrame(power_all)"
      ],
      "execution_count": 28,
      "outputs": []
    },
    {
      "cell_type": "code",
      "metadata": {
        "id": "di8NflCmE0RU",
        "colab": {
          "base_uri": "https://localhost:8080/",
          "height": 197
        },
        "outputId": "4bc73e40-562f-4fc9-bd9a-db0c01158125"
      },
      "source": [
        "Data_all_avg.head()"
      ],
      "execution_count": 29,
      "outputs": [
        {
          "output_type": "execute_result",
          "data": {
            "text/html": [
              "<div>\n",
              "<style scoped>\n",
              "    .dataframe tbody tr th:only-of-type {\n",
              "        vertical-align: middle;\n",
              "    }\n",
              "\n",
              "    .dataframe tbody tr th {\n",
              "        vertical-align: top;\n",
              "    }\n",
              "\n",
              "    .dataframe thead th {\n",
              "        text-align: right;\n",
              "    }\n",
              "</style>\n",
              "<table border=\"1\" class=\"dataframe\">\n",
              "  <thead>\n",
              "    <tr style=\"text-align: right;\">\n",
              "      <th></th>\n",
              "      <th>time</th>\n",
              "      <th>ugrd10m (m s-1)</th>\n",
              "      <th>vgrd10m (m s-1)</th>\n",
              "      <th>rh2m (%)</th>\n",
              "      <th>tmpsfc (K)</th>\n",
              "      <th>tmp2m (K)</th>\n",
              "      <th>Sea Level Pressure (Pa)</th>\n",
              "      <th>Wind Speed (m/s)</th>\n",
              "      <th>Wind Dir</th>\n",
              "      <th>Wind Speed (m/s) @ 60m</th>\n",
              "      <th>Power (W)</th>\n",
              "      <th>Power All (MW)</th>\n",
              "    </tr>\n",
              "  </thead>\n",
              "  <tbody>\n",
              "    <tr>\n",
              "      <th>0</th>\n",
              "      <td>2018-01-01</td>\n",
              "      <td>-0.070244</td>\n",
              "      <td>1.826915</td>\n",
              "      <td>22.651756</td>\n",
              "      <td>282.587320</td>\n",
              "      <td>286.012240</td>\n",
              "      <td>101086.088000</td>\n",
              "      <td>1.828265</td>\n",
              "      <td>177.798104</td>\n",
              "      <td>2.861389</td>\n",
              "      <td>72128.432829</td>\n",
              "      <td>6.491559</td>\n",
              "    </tr>\n",
              "    <tr>\n",
              "      <th>1</th>\n",
              "      <td>2018-01-02</td>\n",
              "      <td>1.269307</td>\n",
              "      <td>0.518547</td>\n",
              "      <td>28.338639</td>\n",
              "      <td>284.354002</td>\n",
              "      <td>285.181348</td>\n",
              "      <td>100613.050500</td>\n",
              "      <td>1.371142</td>\n",
              "      <td>247.778608</td>\n",
              "      <td>2.145953</td>\n",
              "      <td>30425.434154</td>\n",
              "      <td>2.738289</td>\n",
              "    </tr>\n",
              "    <tr>\n",
              "      <th>2</th>\n",
              "      <td>2018-01-03</td>\n",
              "      <td>0.906660</td>\n",
              "      <td>0.850309</td>\n",
              "      <td>60.967446</td>\n",
              "      <td>281.484155</td>\n",
              "      <td>280.822850</td>\n",
              "      <td>101375.239500</td>\n",
              "      <td>1.243004</td>\n",
              "      <td>226.837023</td>\n",
              "      <td>1.945406</td>\n",
              "      <td>22667.664700</td>\n",
              "      <td>2.040090</td>\n",
              "    </tr>\n",
              "    <tr>\n",
              "      <th>3</th>\n",
              "      <td>2018-01-04</td>\n",
              "      <td>0.140965</td>\n",
              "      <td>1.113001</td>\n",
              "      <td>61.667871</td>\n",
              "      <td>280.902554</td>\n",
              "      <td>279.483244</td>\n",
              "      <td>101816.490000</td>\n",
              "      <td>1.121892</td>\n",
              "      <td>187.218237</td>\n",
              "      <td>1.755856</td>\n",
              "      <td>16666.443001</td>\n",
              "      <td>1.499980</td>\n",
              "    </tr>\n",
              "    <tr>\n",
              "      <th>4</th>\n",
              "      <td>2018-01-05</td>\n",
              "      <td>-0.659297</td>\n",
              "      <td>0.921091</td>\n",
              "      <td>46.563653</td>\n",
              "      <td>279.938299</td>\n",
              "      <td>280.202139</td>\n",
              "      <td>101338.338125</td>\n",
              "      <td>1.132732</td>\n",
              "      <td>144.405745</td>\n",
              "      <td>1.772821</td>\n",
              "      <td>17154.210999</td>\n",
              "      <td>1.543879</td>\n",
              "    </tr>\n",
              "  </tbody>\n",
              "</table>\n",
              "</div>"
            ],
            "text/plain": [
              "        time  ugrd10m (m s-1)  ...     Power (W)  Power All (MW)\n",
              "0 2018-01-01        -0.070244  ...  72128.432829        6.491559\n",
              "1 2018-01-02         1.269307  ...  30425.434154        2.738289\n",
              "2 2018-01-03         0.906660  ...  22667.664700        2.040090\n",
              "3 2018-01-04         0.140965  ...  16666.443001        1.499980\n",
              "4 2018-01-05        -0.659297  ...  17154.210999        1.543879\n",
              "\n",
              "[5 rows x 12 columns]"
            ]
          },
          "metadata": {
            "tags": []
          },
          "execution_count": 29
        }
      ]
    },
    {
      "cell_type": "code",
      "metadata": {
        "id": "VxznPJ8BgteN"
      },
      "source": [
        "# Calculating the Capacity Factor based on 1.8 MW rating\n",
        "\n",
        "capacity = np.round(((np.array(Data_all_avg['Power (W)']))/ 1800000) * 100,1)\n",
        "Data_all_avg['Capacity (%)'] = pd.DataFrame(capacity)"
      ],
      "execution_count": 30,
      "outputs": []
    },
    {
      "cell_type": "code",
      "metadata": {
        "colab": {
          "base_uri": "https://localhost:8080/",
          "height": 197
        },
        "id": "Xn5zHspqgtrD",
        "outputId": "5b792e22-a346-4591-db77-73e8a82814e6"
      },
      "source": [
        "Data_all_avg.head()"
      ],
      "execution_count": 31,
      "outputs": [
        {
          "output_type": "execute_result",
          "data": {
            "text/html": [
              "<div>\n",
              "<style scoped>\n",
              "    .dataframe tbody tr th:only-of-type {\n",
              "        vertical-align: middle;\n",
              "    }\n",
              "\n",
              "    .dataframe tbody tr th {\n",
              "        vertical-align: top;\n",
              "    }\n",
              "\n",
              "    .dataframe thead th {\n",
              "        text-align: right;\n",
              "    }\n",
              "</style>\n",
              "<table border=\"1\" class=\"dataframe\">\n",
              "  <thead>\n",
              "    <tr style=\"text-align: right;\">\n",
              "      <th></th>\n",
              "      <th>time</th>\n",
              "      <th>ugrd10m (m s-1)</th>\n",
              "      <th>vgrd10m (m s-1)</th>\n",
              "      <th>rh2m (%)</th>\n",
              "      <th>tmpsfc (K)</th>\n",
              "      <th>tmp2m (K)</th>\n",
              "      <th>Sea Level Pressure (Pa)</th>\n",
              "      <th>Wind Speed (m/s)</th>\n",
              "      <th>Wind Dir</th>\n",
              "      <th>Wind Speed (m/s) @ 60m</th>\n",
              "      <th>Power (W)</th>\n",
              "      <th>Power All (MW)</th>\n",
              "      <th>Capacity (%)</th>\n",
              "    </tr>\n",
              "  </thead>\n",
              "  <tbody>\n",
              "    <tr>\n",
              "      <th>0</th>\n",
              "      <td>2018-01-01</td>\n",
              "      <td>-0.070244</td>\n",
              "      <td>1.826915</td>\n",
              "      <td>22.651756</td>\n",
              "      <td>282.587320</td>\n",
              "      <td>286.012240</td>\n",
              "      <td>101086.088000</td>\n",
              "      <td>1.828265</td>\n",
              "      <td>177.798104</td>\n",
              "      <td>2.861389</td>\n",
              "      <td>72128.432829</td>\n",
              "      <td>6.491559</td>\n",
              "      <td>4.0</td>\n",
              "    </tr>\n",
              "    <tr>\n",
              "      <th>1</th>\n",
              "      <td>2018-01-02</td>\n",
              "      <td>1.269307</td>\n",
              "      <td>0.518547</td>\n",
              "      <td>28.338639</td>\n",
              "      <td>284.354002</td>\n",
              "      <td>285.181348</td>\n",
              "      <td>100613.050500</td>\n",
              "      <td>1.371142</td>\n",
              "      <td>247.778608</td>\n",
              "      <td>2.145953</td>\n",
              "      <td>30425.434154</td>\n",
              "      <td>2.738289</td>\n",
              "      <td>1.7</td>\n",
              "    </tr>\n",
              "    <tr>\n",
              "      <th>2</th>\n",
              "      <td>2018-01-03</td>\n",
              "      <td>0.906660</td>\n",
              "      <td>0.850309</td>\n",
              "      <td>60.967446</td>\n",
              "      <td>281.484155</td>\n",
              "      <td>280.822850</td>\n",
              "      <td>101375.239500</td>\n",
              "      <td>1.243004</td>\n",
              "      <td>226.837023</td>\n",
              "      <td>1.945406</td>\n",
              "      <td>22667.664700</td>\n",
              "      <td>2.040090</td>\n",
              "      <td>1.3</td>\n",
              "    </tr>\n",
              "    <tr>\n",
              "      <th>3</th>\n",
              "      <td>2018-01-04</td>\n",
              "      <td>0.140965</td>\n",
              "      <td>1.113001</td>\n",
              "      <td>61.667871</td>\n",
              "      <td>280.902554</td>\n",
              "      <td>279.483244</td>\n",
              "      <td>101816.490000</td>\n",
              "      <td>1.121892</td>\n",
              "      <td>187.218237</td>\n",
              "      <td>1.755856</td>\n",
              "      <td>16666.443001</td>\n",
              "      <td>1.499980</td>\n",
              "      <td>0.9</td>\n",
              "    </tr>\n",
              "    <tr>\n",
              "      <th>4</th>\n",
              "      <td>2018-01-05</td>\n",
              "      <td>-0.659297</td>\n",
              "      <td>0.921091</td>\n",
              "      <td>46.563653</td>\n",
              "      <td>279.938299</td>\n",
              "      <td>280.202139</td>\n",
              "      <td>101338.338125</td>\n",
              "      <td>1.132732</td>\n",
              "      <td>144.405745</td>\n",
              "      <td>1.772821</td>\n",
              "      <td>17154.210999</td>\n",
              "      <td>1.543879</td>\n",
              "      <td>1.0</td>\n",
              "    </tr>\n",
              "  </tbody>\n",
              "</table>\n",
              "</div>"
            ],
            "text/plain": [
              "        time  ugrd10m (m s-1)  ...  Power All (MW)  Capacity (%)\n",
              "0 2018-01-01        -0.070244  ...        6.491559           4.0\n",
              "1 2018-01-02         1.269307  ...        2.738289           1.7\n",
              "2 2018-01-03         0.906660  ...        2.040090           1.3\n",
              "3 2018-01-04         0.140965  ...        1.499980           0.9\n",
              "4 2018-01-05        -0.659297  ...        1.543879           1.0\n",
              "\n",
              "[5 rows x 13 columns]"
            ]
          },
          "metadata": {
            "tags": []
          },
          "execution_count": 31
        }
      ]
    },
    {
      "cell_type": "markdown",
      "metadata": {
        "id": "pFyNvShaC844"
      },
      "source": [
        "# Number of days over the 1.8 MW Capacity of individual turbines or 162 MW Capacity of Farm"
      ]
    },
    {
      "cell_type": "code",
      "metadata": {
        "id": "dFM3Scc2DgwR"
      },
      "source": [
        "Data_all_avg_over_cap = Data_all_avg[Data_all_avg['Power (W)'] > 1800000]"
      ],
      "execution_count": 32,
      "outputs": []
    },
    {
      "cell_type": "code",
      "metadata": {
        "id": "faaaizXnDgy-",
        "colab": {
          "base_uri": "https://localhost:8080/",
          "height": 77
        },
        "outputId": "35424422-ac38-4bc8-d1bd-67594430a1e1"
      },
      "source": [
        "Data_all_avg_over_cap"
      ],
      "execution_count": 33,
      "outputs": [
        {
          "output_type": "execute_result",
          "data": {
            "text/html": [
              "<div>\n",
              "<style scoped>\n",
              "    .dataframe tbody tr th:only-of-type {\n",
              "        vertical-align: middle;\n",
              "    }\n",
              "\n",
              "    .dataframe tbody tr th {\n",
              "        vertical-align: top;\n",
              "    }\n",
              "\n",
              "    .dataframe thead th {\n",
              "        text-align: right;\n",
              "    }\n",
              "</style>\n",
              "<table border=\"1\" class=\"dataframe\">\n",
              "  <thead>\n",
              "    <tr style=\"text-align: right;\">\n",
              "      <th></th>\n",
              "      <th>time</th>\n",
              "      <th>ugrd10m (m s-1)</th>\n",
              "      <th>vgrd10m (m s-1)</th>\n",
              "      <th>rh2m (%)</th>\n",
              "      <th>tmpsfc (K)</th>\n",
              "      <th>tmp2m (K)</th>\n",
              "      <th>Sea Level Pressure (Pa)</th>\n",
              "      <th>Wind Speed (m/s)</th>\n",
              "      <th>Wind Dir</th>\n",
              "      <th>Wind Speed (m/s) @ 60m</th>\n",
              "      <th>Power (W)</th>\n",
              "      <th>Power All (MW)</th>\n",
              "      <th>Capacity (%)</th>\n",
              "    </tr>\n",
              "  </thead>\n",
              "  <tbody>\n",
              "    <tr>\n",
              "      <th>147</th>\n",
              "      <td>2018-05-28</td>\n",
              "      <td>35.640738</td>\n",
              "      <td>0.071374</td>\n",
              "      <td>32.379615</td>\n",
              "      <td>262.102538</td>\n",
              "      <td>294.526473</td>\n",
              "      <td>89231.8245</td>\n",
              "      <td>35.64081</td>\n",
              "      <td>269.88526</td>\n",
              "      <td>55.780882</td>\n",
              "      <td>5.343577e+08</td>\n",
              "      <td>48092.193027</td>\n",
              "      <td>29686.5</td>\n",
              "    </tr>\n",
              "  </tbody>\n",
              "</table>\n",
              "</div>"
            ],
            "text/plain": [
              "          time  ugrd10m (m s-1)  ...  Power All (MW)  Capacity (%)\n",
              "147 2018-05-28        35.640738  ...    48092.193027       29686.5\n",
              "\n",
              "[1 rows x 13 columns]"
            ]
          },
          "metadata": {
            "tags": []
          },
          "execution_count": 33
        }
      ]
    },
    {
      "cell_type": "code",
      "metadata": {
        "id": "MTXwbHoGFK6d"
      },
      "source": [
        "Data_all_avg_over_cap2 = Data_all_avg[Data_all_avg['Power All (MW)'] > 162]"
      ],
      "execution_count": 34,
      "outputs": []
    },
    {
      "cell_type": "code",
      "metadata": {
        "id": "PxAqaIBWFK87",
        "colab": {
          "base_uri": "https://localhost:8080/",
          "height": 77
        },
        "outputId": "9ade660f-dec8-416d-a05d-e2a968455254"
      },
      "source": [
        "Data_all_avg_over_cap2"
      ],
      "execution_count": 35,
      "outputs": [
        {
          "output_type": "execute_result",
          "data": {
            "text/html": [
              "<div>\n",
              "<style scoped>\n",
              "    .dataframe tbody tr th:only-of-type {\n",
              "        vertical-align: middle;\n",
              "    }\n",
              "\n",
              "    .dataframe tbody tr th {\n",
              "        vertical-align: top;\n",
              "    }\n",
              "\n",
              "    .dataframe thead th {\n",
              "        text-align: right;\n",
              "    }\n",
              "</style>\n",
              "<table border=\"1\" class=\"dataframe\">\n",
              "  <thead>\n",
              "    <tr style=\"text-align: right;\">\n",
              "      <th></th>\n",
              "      <th>time</th>\n",
              "      <th>ugrd10m (m s-1)</th>\n",
              "      <th>vgrd10m (m s-1)</th>\n",
              "      <th>rh2m (%)</th>\n",
              "      <th>tmpsfc (K)</th>\n",
              "      <th>tmp2m (K)</th>\n",
              "      <th>Sea Level Pressure (Pa)</th>\n",
              "      <th>Wind Speed (m/s)</th>\n",
              "      <th>Wind Dir</th>\n",
              "      <th>Wind Speed (m/s) @ 60m</th>\n",
              "      <th>Power (W)</th>\n",
              "      <th>Power All (MW)</th>\n",
              "      <th>Capacity (%)</th>\n",
              "    </tr>\n",
              "  </thead>\n",
              "  <tbody>\n",
              "    <tr>\n",
              "      <th>147</th>\n",
              "      <td>2018-05-28</td>\n",
              "      <td>35.640738</td>\n",
              "      <td>0.071374</td>\n",
              "      <td>32.379615</td>\n",
              "      <td>262.102538</td>\n",
              "      <td>294.526473</td>\n",
              "      <td>89231.8245</td>\n",
              "      <td>35.64081</td>\n",
              "      <td>269.88526</td>\n",
              "      <td>55.780882</td>\n",
              "      <td>5.343577e+08</td>\n",
              "      <td>48092.193027</td>\n",
              "      <td>29686.5</td>\n",
              "    </tr>\n",
              "  </tbody>\n",
              "</table>\n",
              "</div>"
            ],
            "text/plain": [
              "          time  ugrd10m (m s-1)  ...  Power All (MW)  Capacity (%)\n",
              "147 2018-05-28        35.640738  ...    48092.193027       29686.5\n",
              "\n",
              "[1 rows x 13 columns]"
            ]
          },
          "metadata": {
            "tags": []
          },
          "execution_count": 35
        }
      ]
    },
    {
      "cell_type": "markdown",
      "metadata": {
        "id": "FElsI6sT_Veh"
      },
      "source": [
        "# Calcualte MWh\n",
        "\n",
        "Another way to estimate is find out how many hours to assume generate power with wind over course of year and use above power value. From this link https://www.wind-watch.org/faq-output.php can assume that power is generated around 40% of the time."
      ]
    },
    {
      "cell_type": "code",
      "metadata": {
        "colab": {
          "base_uri": "https://localhost:8080/",
          "height": 405
        },
        "id": "3Hd4KsWFWPel",
        "outputId": "7d2211fe-7855-4743-8373-d7a8a0de0718"
      },
      "source": [
        "# Filter for days above 3 m/s and below 15 m/s\n",
        "\n",
        "Data_all_avg_elec = Data_all_avg[Data_all_avg['Wind Speed (m/s)'] >= 0]\n",
        "Data_all_avg_elec = Data_all_avg_elec[Data_all_avg_elec['Wind Speed (m/s)'] < 15]\n",
        "new_index = np.arange(len(Data_all_avg_elec))\n",
        "Data_all_avg_elec = Data_all_avg_elec.reset_index()\n",
        "Data_all_avg_elec"
      ],
      "execution_count": 36,
      "outputs": [
        {
          "output_type": "execute_result",
          "data": {
            "text/html": [
              "<div>\n",
              "<style scoped>\n",
              "    .dataframe tbody tr th:only-of-type {\n",
              "        vertical-align: middle;\n",
              "    }\n",
              "\n",
              "    .dataframe tbody tr th {\n",
              "        vertical-align: top;\n",
              "    }\n",
              "\n",
              "    .dataframe thead th {\n",
              "        text-align: right;\n",
              "    }\n",
              "</style>\n",
              "<table border=\"1\" class=\"dataframe\">\n",
              "  <thead>\n",
              "    <tr style=\"text-align: right;\">\n",
              "      <th></th>\n",
              "      <th>index</th>\n",
              "      <th>time</th>\n",
              "      <th>ugrd10m (m s-1)</th>\n",
              "      <th>vgrd10m (m s-1)</th>\n",
              "      <th>rh2m (%)</th>\n",
              "      <th>tmpsfc (K)</th>\n",
              "      <th>tmp2m (K)</th>\n",
              "      <th>Sea Level Pressure (Pa)</th>\n",
              "      <th>Wind Speed (m/s)</th>\n",
              "      <th>Wind Dir</th>\n",
              "      <th>Wind Speed (m/s) @ 60m</th>\n",
              "      <th>Power (W)</th>\n",
              "      <th>Power All (MW)</th>\n",
              "      <th>Capacity (%)</th>\n",
              "    </tr>\n",
              "  </thead>\n",
              "  <tbody>\n",
              "    <tr>\n",
              "      <th>0</th>\n",
              "      <td>0</td>\n",
              "      <td>2018-01-01</td>\n",
              "      <td>-0.070244</td>\n",
              "      <td>1.826915</td>\n",
              "      <td>22.651756</td>\n",
              "      <td>282.587320</td>\n",
              "      <td>286.012240</td>\n",
              "      <td>101086.088000</td>\n",
              "      <td>1.828265</td>\n",
              "      <td>177.798104</td>\n",
              "      <td>2.861389</td>\n",
              "      <td>72128.432829</td>\n",
              "      <td>6.491559</td>\n",
              "      <td>4.0</td>\n",
              "    </tr>\n",
              "    <tr>\n",
              "      <th>1</th>\n",
              "      <td>1</td>\n",
              "      <td>2018-01-02</td>\n",
              "      <td>1.269307</td>\n",
              "      <td>0.518547</td>\n",
              "      <td>28.338639</td>\n",
              "      <td>284.354002</td>\n",
              "      <td>285.181348</td>\n",
              "      <td>100613.050500</td>\n",
              "      <td>1.371142</td>\n",
              "      <td>247.778608</td>\n",
              "      <td>2.145953</td>\n",
              "      <td>30425.434154</td>\n",
              "      <td>2.738289</td>\n",
              "      <td>1.7</td>\n",
              "    </tr>\n",
              "    <tr>\n",
              "      <th>2</th>\n",
              "      <td>2</td>\n",
              "      <td>2018-01-03</td>\n",
              "      <td>0.906660</td>\n",
              "      <td>0.850309</td>\n",
              "      <td>60.967446</td>\n",
              "      <td>281.484155</td>\n",
              "      <td>280.822850</td>\n",
              "      <td>101375.239500</td>\n",
              "      <td>1.243004</td>\n",
              "      <td>226.837023</td>\n",
              "      <td>1.945406</td>\n",
              "      <td>22667.664700</td>\n",
              "      <td>2.040090</td>\n",
              "      <td>1.3</td>\n",
              "    </tr>\n",
              "    <tr>\n",
              "      <th>3</th>\n",
              "      <td>3</td>\n",
              "      <td>2018-01-04</td>\n",
              "      <td>0.140965</td>\n",
              "      <td>1.113001</td>\n",
              "      <td>61.667871</td>\n",
              "      <td>280.902554</td>\n",
              "      <td>279.483244</td>\n",
              "      <td>101816.490000</td>\n",
              "      <td>1.121892</td>\n",
              "      <td>187.218237</td>\n",
              "      <td>1.755856</td>\n",
              "      <td>16666.443001</td>\n",
              "      <td>1.499980</td>\n",
              "      <td>0.9</td>\n",
              "    </tr>\n",
              "    <tr>\n",
              "      <th>4</th>\n",
              "      <td>4</td>\n",
              "      <td>2018-01-05</td>\n",
              "      <td>-0.659297</td>\n",
              "      <td>0.921091</td>\n",
              "      <td>46.563653</td>\n",
              "      <td>279.938299</td>\n",
              "      <td>280.202139</td>\n",
              "      <td>101338.338125</td>\n",
              "      <td>1.132732</td>\n",
              "      <td>144.405745</td>\n",
              "      <td>1.772821</td>\n",
              "      <td>17154.210999</td>\n",
              "      <td>1.543879</td>\n",
              "      <td>1.0</td>\n",
              "    </tr>\n",
              "    <tr>\n",
              "      <th>...</th>\n",
              "      <td>...</td>\n",
              "      <td>...</td>\n",
              "      <td>...</td>\n",
              "      <td>...</td>\n",
              "      <td>...</td>\n",
              "      <td>...</td>\n",
              "      <td>...</td>\n",
              "      <td>...</td>\n",
              "      <td>...</td>\n",
              "      <td>...</td>\n",
              "      <td>...</td>\n",
              "      <td>...</td>\n",
              "      <td>...</td>\n",
              "      <td>...</td>\n",
              "    </tr>\n",
              "    <tr>\n",
              "      <th>359</th>\n",
              "      <td>360</td>\n",
              "      <td>2018-12-27</td>\n",
              "      <td>1.725643</td>\n",
              "      <td>3.618721</td>\n",
              "      <td>22.028694</td>\n",
              "      <td>284.481719</td>\n",
              "      <td>286.606084</td>\n",
              "      <td>101563.219500</td>\n",
              "      <td>4.009113</td>\n",
              "      <td>205.494867</td>\n",
              "      <td>6.274600</td>\n",
              "      <td>760561.166451</td>\n",
              "      <td>68.450505</td>\n",
              "      <td>42.3</td>\n",
              "    </tr>\n",
              "    <tr>\n",
              "      <th>360</th>\n",
              "      <td>361</td>\n",
              "      <td>2018-12-28</td>\n",
              "      <td>0.860411</td>\n",
              "      <td>1.187227</td>\n",
              "      <td>29.196002</td>\n",
              "      <td>282.972500</td>\n",
              "      <td>284.470825</td>\n",
              "      <td>101046.371250</td>\n",
              "      <td>1.466225</td>\n",
              "      <td>215.931724</td>\n",
              "      <td>2.294766</td>\n",
              "      <td>37204.146601</td>\n",
              "      <td>3.348373</td>\n",
              "      <td>2.1</td>\n",
              "    </tr>\n",
              "    <tr>\n",
              "      <th>361</th>\n",
              "      <td>362</td>\n",
              "      <td>2018-12-29</td>\n",
              "      <td>0.048003</td>\n",
              "      <td>-1.288886</td>\n",
              "      <td>75.564311</td>\n",
              "      <td>277.513865</td>\n",
              "      <td>275.725635</td>\n",
              "      <td>102211.427000</td>\n",
              "      <td>1.289780</td>\n",
              "      <td>357.867091</td>\n",
              "      <td>2.018615</td>\n",
              "      <td>25324.230737</td>\n",
              "      <td>2.279181</td>\n",
              "      <td>1.4</td>\n",
              "    </tr>\n",
              "    <tr>\n",
              "      <th>362</th>\n",
              "      <td>363</td>\n",
              "      <td>2018-12-30</td>\n",
              "      <td>-2.072063</td>\n",
              "      <td>0.655616</td>\n",
              "      <td>59.826888</td>\n",
              "      <td>276.397744</td>\n",
              "      <td>276.056969</td>\n",
              "      <td>102469.298250</td>\n",
              "      <td>2.173310</td>\n",
              "      <td>107.557766</td>\n",
              "      <td>3.401414</td>\n",
              "      <td>121158.704535</td>\n",
              "      <td>10.904283</td>\n",
              "      <td>6.7</td>\n",
              "    </tr>\n",
              "    <tr>\n",
              "      <th>363</th>\n",
              "      <td>364</td>\n",
              "      <td>2018-12-31</td>\n",
              "      <td>-1.365887</td>\n",
              "      <td>0.140708</td>\n",
              "      <td>56.920000</td>\n",
              "      <td>278.915424</td>\n",
              "      <td>277.387050</td>\n",
              "      <td>102272.028000</td>\n",
              "      <td>1.373115</td>\n",
              "      <td>95.881608</td>\n",
              "      <td>2.149041</td>\n",
              "      <td>30556.963765</td>\n",
              "      <td>2.750127</td>\n",
              "      <td>1.7</td>\n",
              "    </tr>\n",
              "  </tbody>\n",
              "</table>\n",
              "<p>364 rows × 14 columns</p>\n",
              "</div>"
            ],
            "text/plain": [
              "     index       time  ...  Power All (MW)  Capacity (%)\n",
              "0        0 2018-01-01  ...        6.491559           4.0\n",
              "1        1 2018-01-02  ...        2.738289           1.7\n",
              "2        2 2018-01-03  ...        2.040090           1.3\n",
              "3        3 2018-01-04  ...        1.499980           0.9\n",
              "4        4 2018-01-05  ...        1.543879           1.0\n",
              "..     ...        ...  ...             ...           ...\n",
              "359    360 2018-12-27  ...       68.450505          42.3\n",
              "360    361 2018-12-28  ...        3.348373           2.1\n",
              "361    362 2018-12-29  ...        2.279181           1.4\n",
              "362    363 2018-12-30  ...       10.904283           6.7\n",
              "363    364 2018-12-31  ...        2.750127           1.7\n",
              "\n",
              "[364 rows x 14 columns]"
            ]
          },
          "metadata": {
            "tags": []
          },
          "execution_count": 36
        }
      ]
    },
    {
      "cell_type": "code",
      "metadata": {
        "colab": {
          "base_uri": "https://localhost:8080/",
          "height": 197
        },
        "id": "EyM10rI6WPmQ",
        "outputId": "86750d75-cd5b-4b9c-e945-2a343ca20b52"
      },
      "source": [
        "# Assume that it is operating at 40% of the time\n",
        "\n",
        "electricity_all = (np.array(Data_all_avg_elec['Power All (MW)']) * 24 * .4)\n",
        "Data_all_avg_elec['Electricity All (MWh)'] = pd.DataFrame(electricity_all)\n",
        "Data_all_avg_elec.head()"
      ],
      "execution_count": 37,
      "outputs": [
        {
          "output_type": "execute_result",
          "data": {
            "text/html": [
              "<div>\n",
              "<style scoped>\n",
              "    .dataframe tbody tr th:only-of-type {\n",
              "        vertical-align: middle;\n",
              "    }\n",
              "\n",
              "    .dataframe tbody tr th {\n",
              "        vertical-align: top;\n",
              "    }\n",
              "\n",
              "    .dataframe thead th {\n",
              "        text-align: right;\n",
              "    }\n",
              "</style>\n",
              "<table border=\"1\" class=\"dataframe\">\n",
              "  <thead>\n",
              "    <tr style=\"text-align: right;\">\n",
              "      <th></th>\n",
              "      <th>index</th>\n",
              "      <th>time</th>\n",
              "      <th>ugrd10m (m s-1)</th>\n",
              "      <th>vgrd10m (m s-1)</th>\n",
              "      <th>rh2m (%)</th>\n",
              "      <th>tmpsfc (K)</th>\n",
              "      <th>tmp2m (K)</th>\n",
              "      <th>Sea Level Pressure (Pa)</th>\n",
              "      <th>Wind Speed (m/s)</th>\n",
              "      <th>Wind Dir</th>\n",
              "      <th>Wind Speed (m/s) @ 60m</th>\n",
              "      <th>Power (W)</th>\n",
              "      <th>Power All (MW)</th>\n",
              "      <th>Capacity (%)</th>\n",
              "      <th>Electricity All (MWh)</th>\n",
              "    </tr>\n",
              "  </thead>\n",
              "  <tbody>\n",
              "    <tr>\n",
              "      <th>0</th>\n",
              "      <td>0</td>\n",
              "      <td>2018-01-01</td>\n",
              "      <td>-0.070244</td>\n",
              "      <td>1.826915</td>\n",
              "      <td>22.651756</td>\n",
              "      <td>282.587320</td>\n",
              "      <td>286.012240</td>\n",
              "      <td>101086.088000</td>\n",
              "      <td>1.828265</td>\n",
              "      <td>177.798104</td>\n",
              "      <td>2.861389</td>\n",
              "      <td>72128.432829</td>\n",
              "      <td>6.491559</td>\n",
              "      <td>4.0</td>\n",
              "      <td>62.318966</td>\n",
              "    </tr>\n",
              "    <tr>\n",
              "      <th>1</th>\n",
              "      <td>1</td>\n",
              "      <td>2018-01-02</td>\n",
              "      <td>1.269307</td>\n",
              "      <td>0.518547</td>\n",
              "      <td>28.338639</td>\n",
              "      <td>284.354002</td>\n",
              "      <td>285.181348</td>\n",
              "      <td>100613.050500</td>\n",
              "      <td>1.371142</td>\n",
              "      <td>247.778608</td>\n",
              "      <td>2.145953</td>\n",
              "      <td>30425.434154</td>\n",
              "      <td>2.738289</td>\n",
              "      <td>1.7</td>\n",
              "      <td>26.287575</td>\n",
              "    </tr>\n",
              "    <tr>\n",
              "      <th>2</th>\n",
              "      <td>2</td>\n",
              "      <td>2018-01-03</td>\n",
              "      <td>0.906660</td>\n",
              "      <td>0.850309</td>\n",
              "      <td>60.967446</td>\n",
              "      <td>281.484155</td>\n",
              "      <td>280.822850</td>\n",
              "      <td>101375.239500</td>\n",
              "      <td>1.243004</td>\n",
              "      <td>226.837023</td>\n",
              "      <td>1.945406</td>\n",
              "      <td>22667.664700</td>\n",
              "      <td>2.040090</td>\n",
              "      <td>1.3</td>\n",
              "      <td>19.584862</td>\n",
              "    </tr>\n",
              "    <tr>\n",
              "      <th>3</th>\n",
              "      <td>3</td>\n",
              "      <td>2018-01-04</td>\n",
              "      <td>0.140965</td>\n",
              "      <td>1.113001</td>\n",
              "      <td>61.667871</td>\n",
              "      <td>280.902554</td>\n",
              "      <td>279.483244</td>\n",
              "      <td>101816.490000</td>\n",
              "      <td>1.121892</td>\n",
              "      <td>187.218237</td>\n",
              "      <td>1.755856</td>\n",
              "      <td>16666.443001</td>\n",
              "      <td>1.499980</td>\n",
              "      <td>0.9</td>\n",
              "      <td>14.399807</td>\n",
              "    </tr>\n",
              "    <tr>\n",
              "      <th>4</th>\n",
              "      <td>4</td>\n",
              "      <td>2018-01-05</td>\n",
              "      <td>-0.659297</td>\n",
              "      <td>0.921091</td>\n",
              "      <td>46.563653</td>\n",
              "      <td>279.938299</td>\n",
              "      <td>280.202139</td>\n",
              "      <td>101338.338125</td>\n",
              "      <td>1.132732</td>\n",
              "      <td>144.405745</td>\n",
              "      <td>1.772821</td>\n",
              "      <td>17154.210999</td>\n",
              "      <td>1.543879</td>\n",
              "      <td>1.0</td>\n",
              "      <td>14.821238</td>\n",
              "    </tr>\n",
              "  </tbody>\n",
              "</table>\n",
              "</div>"
            ],
            "text/plain": [
              "   index       time  ...  Capacity (%)  Electricity All (MWh)\n",
              "0      0 2018-01-01  ...           4.0              62.318966\n",
              "1      1 2018-01-02  ...           1.7              26.287575\n",
              "2      2 2018-01-03  ...           1.3              19.584862\n",
              "3      3 2018-01-04  ...           0.9              14.399807\n",
              "4      4 2018-01-05  ...           1.0              14.821238\n",
              "\n",
              "[5 rows x 15 columns]"
            ]
          },
          "metadata": {
            "tags": []
          },
          "execution_count": 37
        }
      ]
    },
    {
      "cell_type": "code",
      "metadata": {
        "id": "lLBst6GxC8C6",
        "colab": {
          "base_uri": "https://localhost:8080/"
        },
        "outputId": "6bcb41b1-8461-436f-c239-ee55e6c22e14"
      },
      "source": [
        "# Sum up for all of the days\n",
        "\n",
        "electricity_2018 = Data_all_avg_elec.sum(axis=0)['Electricity All (MWh)']\n",
        "electricity_2018"
      ],
      "execution_count": 38,
      "outputs": [
        {
          "output_type": "execute_result",
          "data": {
            "text/plain": [
              "38964.56221927689"
            ]
          },
          "metadata": {
            "tags": []
          },
          "execution_count": 38
        }
      ]
    },
    {
      "cell_type": "code",
      "metadata": {
        "id": "GVmwMZGQC8JI"
      },
      "source": [
        "# Assuming operation 100% of the time\n",
        "\n",
        "electricity_all = (np.array(Data_all_avg['Power All (MW)']) * 24)\n",
        "Data_all_avg['Electricity All (MWh)'] = pd.DataFrame(electricity_all)"
      ],
      "execution_count": 39,
      "outputs": []
    },
    {
      "cell_type": "code",
      "metadata": {
        "id": "CXP7a_KvC8L8",
        "colab": {
          "base_uri": "https://localhost:8080/",
          "height": 197
        },
        "outputId": "16f2b945-6981-49e7-be04-e0c38a320526"
      },
      "source": [
        "Data_all_avg.head()"
      ],
      "execution_count": 40,
      "outputs": [
        {
          "output_type": "execute_result",
          "data": {
            "text/html": [
              "<div>\n",
              "<style scoped>\n",
              "    .dataframe tbody tr th:only-of-type {\n",
              "        vertical-align: middle;\n",
              "    }\n",
              "\n",
              "    .dataframe tbody tr th {\n",
              "        vertical-align: top;\n",
              "    }\n",
              "\n",
              "    .dataframe thead th {\n",
              "        text-align: right;\n",
              "    }\n",
              "</style>\n",
              "<table border=\"1\" class=\"dataframe\">\n",
              "  <thead>\n",
              "    <tr style=\"text-align: right;\">\n",
              "      <th></th>\n",
              "      <th>time</th>\n",
              "      <th>ugrd10m (m s-1)</th>\n",
              "      <th>vgrd10m (m s-1)</th>\n",
              "      <th>rh2m (%)</th>\n",
              "      <th>tmpsfc (K)</th>\n",
              "      <th>tmp2m (K)</th>\n",
              "      <th>Sea Level Pressure (Pa)</th>\n",
              "      <th>Wind Speed (m/s)</th>\n",
              "      <th>Wind Dir</th>\n",
              "      <th>Wind Speed (m/s) @ 60m</th>\n",
              "      <th>Power (W)</th>\n",
              "      <th>Power All (MW)</th>\n",
              "      <th>Capacity (%)</th>\n",
              "      <th>Electricity All (MWh)</th>\n",
              "    </tr>\n",
              "  </thead>\n",
              "  <tbody>\n",
              "    <tr>\n",
              "      <th>0</th>\n",
              "      <td>2018-01-01</td>\n",
              "      <td>-0.070244</td>\n",
              "      <td>1.826915</td>\n",
              "      <td>22.651756</td>\n",
              "      <td>282.587320</td>\n",
              "      <td>286.012240</td>\n",
              "      <td>101086.088000</td>\n",
              "      <td>1.828265</td>\n",
              "      <td>177.798104</td>\n",
              "      <td>2.861389</td>\n",
              "      <td>72128.432829</td>\n",
              "      <td>6.491559</td>\n",
              "      <td>4.0</td>\n",
              "      <td>155.797415</td>\n",
              "    </tr>\n",
              "    <tr>\n",
              "      <th>1</th>\n",
              "      <td>2018-01-02</td>\n",
              "      <td>1.269307</td>\n",
              "      <td>0.518547</td>\n",
              "      <td>28.338639</td>\n",
              "      <td>284.354002</td>\n",
              "      <td>285.181348</td>\n",
              "      <td>100613.050500</td>\n",
              "      <td>1.371142</td>\n",
              "      <td>247.778608</td>\n",
              "      <td>2.145953</td>\n",
              "      <td>30425.434154</td>\n",
              "      <td>2.738289</td>\n",
              "      <td>1.7</td>\n",
              "      <td>65.718938</td>\n",
              "    </tr>\n",
              "    <tr>\n",
              "      <th>2</th>\n",
              "      <td>2018-01-03</td>\n",
              "      <td>0.906660</td>\n",
              "      <td>0.850309</td>\n",
              "      <td>60.967446</td>\n",
              "      <td>281.484155</td>\n",
              "      <td>280.822850</td>\n",
              "      <td>101375.239500</td>\n",
              "      <td>1.243004</td>\n",
              "      <td>226.837023</td>\n",
              "      <td>1.945406</td>\n",
              "      <td>22667.664700</td>\n",
              "      <td>2.040090</td>\n",
              "      <td>1.3</td>\n",
              "      <td>48.962156</td>\n",
              "    </tr>\n",
              "    <tr>\n",
              "      <th>3</th>\n",
              "      <td>2018-01-04</td>\n",
              "      <td>0.140965</td>\n",
              "      <td>1.113001</td>\n",
              "      <td>61.667871</td>\n",
              "      <td>280.902554</td>\n",
              "      <td>279.483244</td>\n",
              "      <td>101816.490000</td>\n",
              "      <td>1.121892</td>\n",
              "      <td>187.218237</td>\n",
              "      <td>1.755856</td>\n",
              "      <td>16666.443001</td>\n",
              "      <td>1.499980</td>\n",
              "      <td>0.9</td>\n",
              "      <td>35.999517</td>\n",
              "    </tr>\n",
              "    <tr>\n",
              "      <th>4</th>\n",
              "      <td>2018-01-05</td>\n",
              "      <td>-0.659297</td>\n",
              "      <td>0.921091</td>\n",
              "      <td>46.563653</td>\n",
              "      <td>279.938299</td>\n",
              "      <td>280.202139</td>\n",
              "      <td>101338.338125</td>\n",
              "      <td>1.132732</td>\n",
              "      <td>144.405745</td>\n",
              "      <td>1.772821</td>\n",
              "      <td>17154.210999</td>\n",
              "      <td>1.543879</td>\n",
              "      <td>1.0</td>\n",
              "      <td>37.053096</td>\n",
              "    </tr>\n",
              "  </tbody>\n",
              "</table>\n",
              "</div>"
            ],
            "text/plain": [
              "        time  ugrd10m (m s-1)  ...  Capacity (%)  Electricity All (MWh)\n",
              "0 2018-01-01        -0.070244  ...           4.0             155.797415\n",
              "1 2018-01-02         1.269307  ...           1.7              65.718938\n",
              "2 2018-01-03         0.906660  ...           1.3              48.962156\n",
              "3 2018-01-04         0.140965  ...           0.9              35.999517\n",
              "4 2018-01-05        -0.659297  ...           1.0              37.053096\n",
              "\n",
              "[5 rows x 14 columns]"
            ]
          },
          "metadata": {
            "tags": []
          },
          "execution_count": 40
        }
      ]
    },
    {
      "cell_type": "code",
      "metadata": {
        "id": "JhfolQ75xQSl"
      },
      "source": [
        "# Outlier Electricity\n",
        "\n",
        "electricity_0528 = Data_all_avg.iloc[147]['Electricity All (MWh)']"
      ],
      "execution_count": 41,
      "outputs": []
    },
    {
      "cell_type": "code",
      "metadata": {
        "id": "UjgSd-XyC8Pj",
        "colab": {
          "base_uri": "https://localhost:8080/"
        },
        "outputId": "0d56d78f-e21a-4782-b9c9-fa5453378591"
      },
      "source": [
        "# Caculating the total MWh for the year 2018\n",
        "\n",
        "electricity_2018 = Data_all_avg.sum(axis=0)['Electricity All (MWh)']\n",
        "electricity_2018"
      ],
      "execution_count": 42,
      "outputs": [
        {
          "output_type": "execute_result",
          "data": {
            "text/plain": [
              "1251624.0381847534"
            ]
          },
          "metadata": {
            "tags": []
          },
          "execution_count": 42
        }
      ]
    },
    {
      "cell_type": "code",
      "metadata": {
        "colab": {
          "base_uri": "https://localhost:8080/"
        },
        "id": "AnwFb2FAxp_N",
        "outputId": "a2dbd701-5462-4a4e-c038-b819888cadf0"
      },
      "source": [
        "# Removing outlier, above turbine capacity\n",
        "\n",
        "electricity_2018 = electricity_2018 - electricity_0528\n",
        "electricity_2018"
      ],
      "execution_count": 43,
      "outputs": [
        {
          "output_type": "execute_result",
          "data": {
            "text/plain": [
              "97411.4055481921"
            ]
          },
          "metadata": {
            "tags": []
          },
          "execution_count": 43
        }
      ]
    },
    {
      "cell_type": "markdown",
      "metadata": {
        "id": "OXPS_2djmeTT"
      },
      "source": [
        "# Distribution of Capacity"
      ]
    },
    {
      "cell_type": "code",
      "metadata": {
        "colab": {
          "base_uri": "https://localhost:8080/",
          "height": 350
        },
        "id": "oFYVquAimhDQ",
        "outputId": "5b65ed62-4575-418f-cad6-c1c5f456946e"
      },
      "source": [
        "# Histogram of capacity across 2018\n",
        "\n",
        "seaborn.distplot(Data_all_avg_elec['Capacity (%)'])"
      ],
      "execution_count": 44,
      "outputs": [
        {
          "output_type": "stream",
          "text": [
            "/usr/local/lib/python3.6/dist-packages/seaborn/distributions.py:2551: FutureWarning: `distplot` is a deprecated function and will be removed in a future version. Please adapt your code to use either `displot` (a figure-level function with similar flexibility) or `histplot` (an axes-level function for histograms).\n",
            "  warnings.warn(msg, FutureWarning)\n"
          ],
          "name": "stderr"
        },
        {
          "output_type": "execute_result",
          "data": {
            "text/plain": [
              "<matplotlib.axes._subplots.AxesSubplot at 0x7f77a5103c88>"
            ]
          },
          "metadata": {
            "tags": []
          },
          "execution_count": 44
        },
        {
          "output_type": "display_data",
          "data": {
            "image/png": "[encoded data removed]",
            "text/plain": [
              "<Figure size 432x288 with 1 Axes>"
            ]
          },
          "metadata": {
            "tags": [],
            "needs_background": "light"
          }
        }
      ]
    },
    {
      "cell_type": "markdown",
      "metadata": {
        "id": "3RFrdQ9bCK73"
      },
      "source": [
        "# Wind Direction"
      ]
    },
    {
      "cell_type": "code",
      "metadata": {
        "colab": {
          "base_uri": "https://localhost:8080/",
          "height": 197
        },
        "id": "9QfnK2giCKO3",
        "outputId": "6224a202-90e4-4d70-ed46-d1a87bf2e92f"
      },
      "source": [
        "Data_all_avg_elec.head()"
      ],
      "execution_count": 45,
      "outputs": [
        {
          "output_type": "execute_result",
          "data": {
            "text/html": [
              "<div>\n",
              "<style scoped>\n",
              "    .dataframe tbody tr th:only-of-type {\n",
              "        vertical-align: middle;\n",
              "    }\n",
              "\n",
              "    .dataframe tbody tr th {\n",
              "        vertical-align: top;\n",
              "    }\n",
              "\n",
              "    .dataframe thead th {\n",
              "        text-align: right;\n",
              "    }\n",
              "</style>\n",
              "<table border=\"1\" class=\"dataframe\">\n",
              "  <thead>\n",
              "    <tr style=\"text-align: right;\">\n",
              "      <th></th>\n",
              "      <th>index</th>\n",
              "      <th>time</th>\n",
              "      <th>ugrd10m (m s-1)</th>\n",
              "      <th>vgrd10m (m s-1)</th>\n",
              "      <th>rh2m (%)</th>\n",
              "      <th>tmpsfc (K)</th>\n",
              "      <th>tmp2m (K)</th>\n",
              "      <th>Sea Level Pressure (Pa)</th>\n",
              "      <th>Wind Speed (m/s)</th>\n",
              "      <th>Wind Dir</th>\n",
              "      <th>Wind Speed (m/s) @ 60m</th>\n",
              "      <th>Power (W)</th>\n",
              "      <th>Power All (MW)</th>\n",
              "      <th>Capacity (%)</th>\n",
              "      <th>Electricity All (MWh)</th>\n",
              "    </tr>\n",
              "  </thead>\n",
              "  <tbody>\n",
              "    <tr>\n",
              "      <th>0</th>\n",
              "      <td>0</td>\n",
              "      <td>2018-01-01</td>\n",
              "      <td>-0.070244</td>\n",
              "      <td>1.826915</td>\n",
              "      <td>22.651756</td>\n",
              "      <td>282.587320</td>\n",
              "      <td>286.012240</td>\n",
              "      <td>101086.088000</td>\n",
              "      <td>1.828265</td>\n",
              "      <td>177.798104</td>\n",
              "      <td>2.861389</td>\n",
              "      <td>72128.432829</td>\n",
              "      <td>6.491559</td>\n",
              "      <td>4.0</td>\n",
              "      <td>62.318966</td>\n",
              "    </tr>\n",
              "    <tr>\n",
              "      <th>1</th>\n",
              "      <td>1</td>\n",
              "      <td>2018-01-02</td>\n",
              "      <td>1.269307</td>\n",
              "      <td>0.518547</td>\n",
              "      <td>28.338639</td>\n",
              "      <td>284.354002</td>\n",
              "      <td>285.181348</td>\n",
              "      <td>100613.050500</td>\n",
              "      <td>1.371142</td>\n",
              "      <td>247.778608</td>\n",
              "      <td>2.145953</td>\n",
              "      <td>30425.434154</td>\n",
              "      <td>2.738289</td>\n",
              "      <td>1.7</td>\n",
              "      <td>26.287575</td>\n",
              "    </tr>\n",
              "    <tr>\n",
              "      <th>2</th>\n",
              "      <td>2</td>\n",
              "      <td>2018-01-03</td>\n",
              "      <td>0.906660</td>\n",
              "      <td>0.850309</td>\n",
              "      <td>60.967446</td>\n",
              "      <td>281.484155</td>\n",
              "      <td>280.822850</td>\n",
              "      <td>101375.239500</td>\n",
              "      <td>1.243004</td>\n",
              "      <td>226.837023</td>\n",
              "      <td>1.945406</td>\n",
              "      <td>22667.664700</td>\n",
              "      <td>2.040090</td>\n",
              "      <td>1.3</td>\n",
              "      <td>19.584862</td>\n",
              "    </tr>\n",
              "    <tr>\n",
              "      <th>3</th>\n",
              "      <td>3</td>\n",
              "      <td>2018-01-04</td>\n",
              "      <td>0.140965</td>\n",
              "      <td>1.113001</td>\n",
              "      <td>61.667871</td>\n",
              "      <td>280.902554</td>\n",
              "      <td>279.483244</td>\n",
              "      <td>101816.490000</td>\n",
              "      <td>1.121892</td>\n",
              "      <td>187.218237</td>\n",
              "      <td>1.755856</td>\n",
              "      <td>16666.443001</td>\n",
              "      <td>1.499980</td>\n",
              "      <td>0.9</td>\n",
              "      <td>14.399807</td>\n",
              "    </tr>\n",
              "    <tr>\n",
              "      <th>4</th>\n",
              "      <td>4</td>\n",
              "      <td>2018-01-05</td>\n",
              "      <td>-0.659297</td>\n",
              "      <td>0.921091</td>\n",
              "      <td>46.563653</td>\n",
              "      <td>279.938299</td>\n",
              "      <td>280.202139</td>\n",
              "      <td>101338.338125</td>\n",
              "      <td>1.132732</td>\n",
              "      <td>144.405745</td>\n",
              "      <td>1.772821</td>\n",
              "      <td>17154.210999</td>\n",
              "      <td>1.543879</td>\n",
              "      <td>1.0</td>\n",
              "      <td>14.821238</td>\n",
              "    </tr>\n",
              "  </tbody>\n",
              "</table>\n",
              "</div>"
            ],
            "text/plain": [
              "   index       time  ...  Capacity (%)  Electricity All (MWh)\n",
              "0      0 2018-01-01  ...           4.0              62.318966\n",
              "1      1 2018-01-02  ...           1.7              26.287575\n",
              "2      2 2018-01-03  ...           1.3              19.584862\n",
              "3      3 2018-01-04  ...           0.9              14.399807\n",
              "4      4 2018-01-05  ...           1.0              14.821238\n",
              "\n",
              "[5 rows x 15 columns]"
            ]
          },
          "metadata": {
            "tags": []
          },
          "execution_count": 45
        }
      ]
    },
    {
      "cell_type": "code",
      "metadata": {
        "id": "EdPCOFvlCNzM"
      },
      "source": [
        "# Assigning a Direction\n",
        "\n",
        "wind_dir_data = (np.array(Data_all_avg['Wind Dir']))\n",
        "\n",
        "# Create empty list\n",
        "wind_dir_data_comp = []\n",
        "\n",
        "for i in range(len(wind_dir_data)):\n",
        "  degrees = wind_dir_data[i]\n",
        "\n",
        "  if degrees < 22.5 or degrees > 337.5:\n",
        "    compass = 'N'\n",
        "  elif 22.5 < degrees < 67.5:\n",
        "    compass = 'NE'\n",
        "  elif 67.5 < degrees < 112.5:\n",
        "    compass = 'E'\n",
        "  elif 112.5 < degrees < 157.5:\n",
        "    compass = 'SE'\n",
        "  elif 157.5 < degrees < 202.5:\n",
        "    compass = 'S'\n",
        "  elif 202.5 < degrees < 247.5:\n",
        "    compass = 'SW'\n",
        "  elif 247.5 < degrees < 292.5:\n",
        "    compass = 'W'\n",
        "  elif 292.5 < degrees < 337.5:\n",
        "    compass = 'NW'\n",
        "  \n",
        "  wind_dir_data_comp.append(compass)"
      ],
      "execution_count": 46,
      "outputs": []
    },
    {
      "cell_type": "code",
      "metadata": {
        "id": "go8qacWjCN6c"
      },
      "source": [
        "# Add back to dataframe\n",
        "\n",
        "Data_all_avg_elec['Compass Direction'] = pd.DataFrame(wind_dir_data_comp)"
      ],
      "execution_count": 47,
      "outputs": []
    },
    {
      "cell_type": "code",
      "metadata": {
        "colab": {
          "base_uri": "https://localhost:8080/",
          "height": 769
        },
        "id": "V4NkOYViCN4e",
        "outputId": "223ccc77-176c-44d4-b943-9d075a266729"
      },
      "source": [
        "Data_all_avg_elec.iloc[45:60]"
      ],
      "execution_count": 48,
      "outputs": [
        {
          "output_type": "execute_result",
          "data": {
            "text/html": [
              "<div>\n",
              "<style scoped>\n",
              "    .dataframe tbody tr th:only-of-type {\n",
              "        vertical-align: middle;\n",
              "    }\n",
              "\n",
              "    .dataframe tbody tr th {\n",
              "        vertical-align: top;\n",
              "    }\n",
              "\n",
              "    .dataframe thead th {\n",
              "        text-align: right;\n",
              "    }\n",
              "</style>\n",
              "<table border=\"1\" class=\"dataframe\">\n",
              "  <thead>\n",
              "    <tr style=\"text-align: right;\">\n",
              "      <th></th>\n",
              "      <th>index</th>\n",
              "      <th>time</th>\n",
              "      <th>ugrd10m (m s-1)</th>\n",
              "      <th>vgrd10m (m s-1)</th>\n",
              "      <th>rh2m (%)</th>\n",
              "      <th>tmpsfc (K)</th>\n",
              "      <th>tmp2m (K)</th>\n",
              "      <th>Sea Level Pressure (Pa)</th>\n",
              "      <th>Wind Speed (m/s)</th>\n",
              "      <th>Wind Dir</th>\n",
              "      <th>Wind Speed (m/s) @ 60m</th>\n",
              "      <th>Power (W)</th>\n",
              "      <th>Power All (MW)</th>\n",
              "      <th>Capacity (%)</th>\n",
              "      <th>Electricity All (MWh)</th>\n",
              "      <th>Compass Direction</th>\n",
              "    </tr>\n",
              "  </thead>\n",
              "  <tbody>\n",
              "    <tr>\n",
              "      <th>45</th>\n",
              "      <td>45</td>\n",
              "      <td>2018-02-15</td>\n",
              "      <td>-1.692253</td>\n",
              "      <td>0.493121</td>\n",
              "      <td>70.096687</td>\n",
              "      <td>276.958489</td>\n",
              "      <td>275.772625</td>\n",
              "      <td>103052.515250</td>\n",
              "      <td>1.762637</td>\n",
              "      <td>106.246072</td>\n",
              "      <td>2.758676</td>\n",
              "      <td>64636.546970</td>\n",
              "      <td>5.817289</td>\n",
              "      <td>3.6</td>\n",
              "      <td>55.845977</td>\n",
              "      <td>E</td>\n",
              "    </tr>\n",
              "    <tr>\n",
              "      <th>46</th>\n",
              "      <td>46</td>\n",
              "      <td>2018-02-16</td>\n",
              "      <td>-1.380809</td>\n",
              "      <td>-0.335902</td>\n",
              "      <td>58.274145</td>\n",
              "      <td>284.263140</td>\n",
              "      <td>282.472774</td>\n",
              "      <td>101130.219000</td>\n",
              "      <td>1.421078</td>\n",
              "      <td>76.327543</td>\n",
              "      <td>2.224108</td>\n",
              "      <td>33872.197960</td>\n",
              "      <td>3.048498</td>\n",
              "      <td>1.9</td>\n",
              "      <td>29.265579</td>\n",
              "      <td>E</td>\n",
              "    </tr>\n",
              "    <tr>\n",
              "      <th>47</th>\n",
              "      <td>47</td>\n",
              "      <td>2018-02-17</td>\n",
              "      <td>-0.278895</td>\n",
              "      <td>-0.838226</td>\n",
              "      <td>71.743886</td>\n",
              "      <td>283.104051</td>\n",
              "      <td>279.505044</td>\n",
              "      <td>101684.859875</td>\n",
              "      <td>0.883405</td>\n",
              "      <td>18.403340</td>\n",
              "      <td>1.382604</td>\n",
              "      <td>8137.099976</td>\n",
              "      <td>0.732339</td>\n",
              "      <td>0.5</td>\n",
              "      <td>7.030454</td>\n",
              "      <td>N</td>\n",
              "    </tr>\n",
              "    <tr>\n",
              "      <th>48</th>\n",
              "      <td>48</td>\n",
              "      <td>2018-02-18</td>\n",
              "      <td>-1.481899</td>\n",
              "      <td>0.211778</td>\n",
              "      <td>65.789722</td>\n",
              "      <td>282.267715</td>\n",
              "      <td>279.394437</td>\n",
              "      <td>102078.933000</td>\n",
              "      <td>1.496955</td>\n",
              "      <td>98.133071</td>\n",
              "      <td>2.342862</td>\n",
              "      <td>39592.773735</td>\n",
              "      <td>3.563350</td>\n",
              "      <td>2.2</td>\n",
              "      <td>34.208157</td>\n",
              "      <td>E</td>\n",
              "    </tr>\n",
              "    <tr>\n",
              "      <th>49</th>\n",
              "      <td>49</td>\n",
              "      <td>2018-02-19</td>\n",
              "      <td>-1.453068</td>\n",
              "      <td>-0.946301</td>\n",
              "      <td>63.004655</td>\n",
              "      <td>282.982880</td>\n",
              "      <td>281.328760</td>\n",
              "      <td>101664.338125</td>\n",
              "      <td>1.734039</td>\n",
              "      <td>56.926091</td>\n",
              "      <td>2.713918</td>\n",
              "      <td>61541.225423</td>\n",
              "      <td>5.538710</td>\n",
              "      <td>3.4</td>\n",
              "      <td>53.171619</td>\n",
              "      <td>NE</td>\n",
              "    </tr>\n",
              "    <tr>\n",
              "      <th>50</th>\n",
              "      <td>50</td>\n",
              "      <td>2018-02-20</td>\n",
              "      <td>-0.848007</td>\n",
              "      <td>-0.673513</td>\n",
              "      <td>71.962422</td>\n",
              "      <td>282.663995</td>\n",
              "      <td>279.091084</td>\n",
              "      <td>101943.959125</td>\n",
              "      <td>1.082929</td>\n",
              "      <td>51.542350</td>\n",
              "      <td>1.694876</td>\n",
              "      <td>14989.579171</td>\n",
              "      <td>1.349062</td>\n",
              "      <td>0.8</td>\n",
              "      <td>12.950996</td>\n",
              "      <td>NE</td>\n",
              "    </tr>\n",
              "    <tr>\n",
              "      <th>51</th>\n",
              "      <td>51</td>\n",
              "      <td>2018-02-21</td>\n",
              "      <td>-1.836309</td>\n",
              "      <td>-0.088553</td>\n",
              "      <td>60.235809</td>\n",
              "      <td>282.685560</td>\n",
              "      <td>280.428044</td>\n",
              "      <td>101965.365250</td>\n",
              "      <td>1.838443</td>\n",
              "      <td>87.239130</td>\n",
              "      <td>2.877319</td>\n",
              "      <td>73339.861660</td>\n",
              "      <td>6.600588</td>\n",
              "      <td>4.1</td>\n",
              "      <td>63.365640</td>\n",
              "      <td>E</td>\n",
              "    </tr>\n",
              "    <tr>\n",
              "      <th>52</th>\n",
              "      <td>52</td>\n",
              "      <td>2018-02-22</td>\n",
              "      <td>-2.004092</td>\n",
              "      <td>0.061330</td>\n",
              "      <td>51.906039</td>\n",
              "      <td>283.504732</td>\n",
              "      <td>281.697763</td>\n",
              "      <td>101577.931250</td>\n",
              "      <td>2.005030</td>\n",
              "      <td>91.752848</td>\n",
              "      <td>3.138042</td>\n",
              "      <td>95137.575385</td>\n",
              "      <td>8.562382</td>\n",
              "      <td>5.3</td>\n",
              "      <td>82.198865</td>\n",
              "      <td>E</td>\n",
              "    </tr>\n",
              "    <tr>\n",
              "      <th>53</th>\n",
              "      <td>53</td>\n",
              "      <td>2018-02-23</td>\n",
              "      <td>-1.062180</td>\n",
              "      <td>-0.736340</td>\n",
              "      <td>59.553524</td>\n",
              "      <td>283.313250</td>\n",
              "      <td>280.863766</td>\n",
              "      <td>101442.487250</td>\n",
              "      <td>1.292448</td>\n",
              "      <td>55.268948</td>\n",
              "      <td>2.022791</td>\n",
              "      <td>25481.716922</td>\n",
              "      <td>2.293355</td>\n",
              "      <td>1.4</td>\n",
              "      <td>22.016203</td>\n",
              "      <td>NE</td>\n",
              "    </tr>\n",
              "    <tr>\n",
              "      <th>54</th>\n",
              "      <td>54</td>\n",
              "      <td>2018-02-24</td>\n",
              "      <td>-2.340973</td>\n",
              "      <td>0.343789</td>\n",
              "      <td>65.033904</td>\n",
              "      <td>284.511284</td>\n",
              "      <td>282.212795</td>\n",
              "      <td>101328.395625</td>\n",
              "      <td>2.366082</td>\n",
              "      <td>98.354595</td>\n",
              "      <td>3.703118</td>\n",
              "      <td>156343.095029</td>\n",
              "      <td>14.070879</td>\n",
              "      <td>8.7</td>\n",
              "      <td>135.080434</td>\n",
              "      <td>E</td>\n",
              "    </tr>\n",
              "    <tr>\n",
              "      <th>55</th>\n",
              "      <td>55</td>\n",
              "      <td>2018-02-25</td>\n",
              "      <td>-0.138155</td>\n",
              "      <td>-0.622391</td>\n",
              "      <td>69.219737</td>\n",
              "      <td>285.306425</td>\n",
              "      <td>283.576452</td>\n",
              "      <td>100888.458875</td>\n",
              "      <td>0.637541</td>\n",
              "      <td>12.515312</td>\n",
              "      <td>0.997805</td>\n",
              "      <td>3058.530193</td>\n",
              "      <td>0.275268</td>\n",
              "      <td>0.2</td>\n",
              "      <td>2.642570</td>\n",
              "      <td>N</td>\n",
              "    </tr>\n",
              "    <tr>\n",
              "      <th>56</th>\n",
              "      <td>56</td>\n",
              "      <td>2018-02-26</td>\n",
              "      <td>0.884452</td>\n",
              "      <td>-0.399576</td>\n",
              "      <td>60.036323</td>\n",
              "      <td>286.822446</td>\n",
              "      <td>284.016919</td>\n",
              "      <td>101098.658125</td>\n",
              "      <td>0.970524</td>\n",
              "      <td>294.312402</td>\n",
              "      <td>1.518953</td>\n",
              "      <td>10789.679399</td>\n",
              "      <td>0.971071</td>\n",
              "      <td>0.6</td>\n",
              "      <td>9.322283</td>\n",
              "      <td>NW</td>\n",
              "    </tr>\n",
              "    <tr>\n",
              "      <th>57</th>\n",
              "      <td>57</td>\n",
              "      <td>2018-02-27</td>\n",
              "      <td>-1.669718</td>\n",
              "      <td>-0.117698</td>\n",
              "      <td>54.065554</td>\n",
              "      <td>286.891903</td>\n",
              "      <td>284.569459</td>\n",
              "      <td>101523.350000</td>\n",
              "      <td>1.673861</td>\n",
              "      <td>85.967913</td>\n",
              "      <td>2.619733</td>\n",
              "      <td>55353.777360</td>\n",
              "      <td>4.981840</td>\n",
              "      <td>3.1</td>\n",
              "      <td>47.825664</td>\n",
              "      <td>E</td>\n",
              "    </tr>\n",
              "    <tr>\n",
              "      <th>58</th>\n",
              "      <td>58</td>\n",
              "      <td>2018-02-28</td>\n",
              "      <td>-0.452786</td>\n",
              "      <td>-1.433704</td>\n",
              "      <td>58.393794</td>\n",
              "      <td>288.004089</td>\n",
              "      <td>284.627124</td>\n",
              "      <td>101539.809500</td>\n",
              "      <td>1.503503</td>\n",
              "      <td>17.526914</td>\n",
              "      <td>2.353110</td>\n",
              "      <td>40114.594997</td>\n",
              "      <td>3.610314</td>\n",
              "      <td>2.2</td>\n",
              "      <td>34.659010</td>\n",
              "      <td>N</td>\n",
              "    </tr>\n",
              "    <tr>\n",
              "      <th>59</th>\n",
              "      <td>59</td>\n",
              "      <td>2018-03-01</td>\n",
              "      <td>-0.955919</td>\n",
              "      <td>-1.017057</td>\n",
              "      <td>67.973887</td>\n",
              "      <td>286.973052</td>\n",
              "      <td>283.214489</td>\n",
              "      <td>101476.863250</td>\n",
              "      <td>1.395775</td>\n",
              "      <td>43.225099</td>\n",
              "      <td>2.184505</td>\n",
              "      <td>32094.851104</td>\n",
              "      <td>2.888537</td>\n",
              "      <td>1.8</td>\n",
              "      <td>27.729951</td>\n",
              "      <td>NE</td>\n",
              "    </tr>\n",
              "  </tbody>\n",
              "</table>\n",
              "</div>"
            ],
            "text/plain": [
              "    index       time  ...  Electricity All (MWh)  Compass Direction\n",
              "45     45 2018-02-15  ...              55.845977                  E\n",
              "46     46 2018-02-16  ...              29.265579                  E\n",
              "47     47 2018-02-17  ...               7.030454                  N\n",
              "48     48 2018-02-18  ...              34.208157                  E\n",
              "49     49 2018-02-19  ...              53.171619                 NE\n",
              "50     50 2018-02-20  ...              12.950996                 NE\n",
              "51     51 2018-02-21  ...              63.365640                  E\n",
              "52     52 2018-02-22  ...              82.198865                  E\n",
              "53     53 2018-02-23  ...              22.016203                 NE\n",
              "54     54 2018-02-24  ...             135.080434                  E\n",
              "55     55 2018-02-25  ...               2.642570                  N\n",
              "56     56 2018-02-26  ...               9.322283                 NW\n",
              "57     57 2018-02-27  ...              47.825664                  E\n",
              "58     58 2018-02-28  ...              34.659010                  N\n",
              "59     59 2018-03-01  ...              27.729951                 NE\n",
              "\n",
              "[15 rows x 16 columns]"
            ]
          },
          "metadata": {
            "tags": []
          },
          "execution_count": 48
        }
      ]
    },
    {
      "cell_type": "code",
      "metadata": {
        "id": "sAoaOlvOCN1_"
      },
      "source": [
        "# Create Barchart of Directions\n",
        "\n",
        "compass_counts = pd.value_counts(Data_all_avg_elec['Compass Direction']).to_frame().reset_index()"
      ],
      "execution_count": 49,
      "outputs": []
    },
    {
      "cell_type": "code",
      "metadata": {
        "id": "xMIwhjNaFqVU"
      },
      "source": [
        "compass_counts.columns = ['Compass Direction', 'Count']"
      ],
      "execution_count": 50,
      "outputs": []
    },
    {
      "cell_type": "code",
      "metadata": {
        "colab": {
          "base_uri": "https://localhost:8080/",
          "height": 286
        },
        "id": "JKg4MAT0GIJt",
        "outputId": "ecb84269-b89c-4dbe-f82a-713f40595678"
      },
      "source": [
        "compass_counts"
      ],
      "execution_count": 51,
      "outputs": [
        {
          "output_type": "execute_result",
          "data": {
            "text/html": [
              "<div>\n",
              "<style scoped>\n",
              "    .dataframe tbody tr th:only-of-type {\n",
              "        vertical-align: middle;\n",
              "    }\n",
              "\n",
              "    .dataframe tbody tr th {\n",
              "        vertical-align: top;\n",
              "    }\n",
              "\n",
              "    .dataframe thead th {\n",
              "        text-align: right;\n",
              "    }\n",
              "</style>\n",
              "<table border=\"1\" class=\"dataframe\">\n",
              "  <thead>\n",
              "    <tr style=\"text-align: right;\">\n",
              "      <th></th>\n",
              "      <th>Compass Direction</th>\n",
              "      <th>Count</th>\n",
              "    </tr>\n",
              "  </thead>\n",
              "  <tbody>\n",
              "    <tr>\n",
              "      <th>0</th>\n",
              "      <td>E</td>\n",
              "      <td>131</td>\n",
              "    </tr>\n",
              "    <tr>\n",
              "      <th>1</th>\n",
              "      <td>NE</td>\n",
              "      <td>75</td>\n",
              "    </tr>\n",
              "    <tr>\n",
              "      <th>2</th>\n",
              "      <td>N</td>\n",
              "      <td>65</td>\n",
              "    </tr>\n",
              "    <tr>\n",
              "      <th>3</th>\n",
              "      <td>SE</td>\n",
              "      <td>27</td>\n",
              "    </tr>\n",
              "    <tr>\n",
              "      <th>4</th>\n",
              "      <td>S</td>\n",
              "      <td>19</td>\n",
              "    </tr>\n",
              "    <tr>\n",
              "      <th>5</th>\n",
              "      <td>SW</td>\n",
              "      <td>19</td>\n",
              "    </tr>\n",
              "    <tr>\n",
              "      <th>6</th>\n",
              "      <td>NW</td>\n",
              "      <td>18</td>\n",
              "    </tr>\n",
              "    <tr>\n",
              "      <th>7</th>\n",
              "      <td>W</td>\n",
              "      <td>10</td>\n",
              "    </tr>\n",
              "  </tbody>\n",
              "</table>\n",
              "</div>"
            ],
            "text/plain": [
              "  Compass Direction  Count\n",
              "0                 E    131\n",
              "1                NE     75\n",
              "2                 N     65\n",
              "3                SE     27\n",
              "4                 S     19\n",
              "5                SW     19\n",
              "6                NW     18\n",
              "7                 W     10"
            ]
          },
          "metadata": {
            "tags": []
          },
          "execution_count": 51
        }
      ]
    },
    {
      "cell_type": "code",
      "metadata": {
        "colab": {
          "base_uri": "https://localhost:8080/",
          "height": 296
        },
        "id": "c7oSboyTGIO0",
        "outputId": "552799fe-b460-4de1-ef45-143fac877b7e"
      },
      "source": [
        "seaborn.barplot(x=compass_counts['Compass Direction'], y=compass_counts['Count'])"
      ],
      "execution_count": 52,
      "outputs": [
        {
          "output_type": "execute_result",
          "data": {
            "text/plain": [
              "<matplotlib.axes._subplots.AxesSubplot at 0x7f77a13a09e8>"
            ]
          },
          "metadata": {
            "tags": []
          },
          "execution_count": 52
        },
        {
          "output_type": "display_data",
          "data": {
            "image/png": "[encoded data removed]",
            "text/plain": [
              "<Figure size 432x288 with 1 Axes>"
            ]
          },
          "metadata": {
            "tags": [],
            "needs_background": "light"
          }
        }
      ]
    },
    {
      "cell_type": "markdown",
      "metadata": {
        "id": "uaZAV0r30suy"
      },
      "source": [
        "# Plotting"
      ]
    },
    {
      "cell_type": "code",
      "metadata": {
        "id": "VZa2-akg3QIz"
      },
      "source": [
        "def plot_variable(days, variable, label):\n",
        "    fig = plt.figure(figsize=(17,8))\n",
        "\n",
        "    plt.plot(days, variable, label=label, color='green', linewidth='2')\n",
        "    plt.title(label)\n",
        "    plt.ylabel(label)\n",
        "    plt.xlabel('Days')\n",
        "\n",
        "    plt.legend()\n",
        "    plt.show()"
      ],
      "execution_count": 53,
      "outputs": []
    },
    {
      "cell_type": "code",
      "metadata": {
        "id": "l4fyJHq5d_Yd"
      },
      "source": [
        "def plot_overlay(days, variable, days2, variable2, label):\n",
        "    fig = plt.figure(figsize=(17,8))\n",
        "\n",
        "    plt.plot(days, variable, label=label, color='blue', linewidth='2')\n",
        "    plt.plot(days2, variable2, label='Capacity', color='red', linewidth='2')\n",
        "    plt.title(label)\n",
        "    plt.ylabel(label)\n",
        "    plt.xlabel('Days')\n",
        "\n",
        "    plt.legend()\n",
        "    plt.show()"
      ],
      "execution_count": 54,
      "outputs": []
    },
    {
      "cell_type": "code",
      "metadata": {
        "colab": {
          "base_uri": "https://localhost:8080/",
          "height": 513
        },
        "id": "hpC8hDSc3QRI",
        "outputId": "b5b53a13-9a19-4510-d31f-a9ea9cd5152b"
      },
      "source": [
        "x = 365\n",
        "outliers = [147]\n",
        "\n",
        "plot_variable(Data_all_avg['time'][0:x].drop(axis=0, index=outliers), Data_all_avg['Wind Speed (m/s) @ 60m'][0:x].drop(axis=0, index=outliers), 'Wind Speed (m/s) @ 60m')"
      ],
      "execution_count": 55,
      "outputs": [
        {
          "output_type": "display_data",
          "data": {
            "image/png": "[encoded data removed]",
            "text/plain": [
              "<Figure size 1224x576 with 1 Axes>"
            ]
          },
          "metadata": {
            "tags": [],
            "needs_background": "light"
          }
        }
      ]
    },
    {
      "cell_type": "code",
      "metadata": {
        "colab": {
          "base_uri": "https://localhost:8080/",
          "height": 513
        },
        "id": "KX8qHaLudH3G",
        "outputId": "ff24c0cf-b0c3-4f92-dff0-fc34f957f093"
      },
      "source": [
        "x = 365\n",
        "outliers = [147]\n",
        "\n",
        "plot_overlay(Data_all_avg['time'][0:x].drop(axis=0, index=outliers), Data_all_avg['Power (W)'][0:x].drop(axis=0, index=outliers), Data_all_avg['time'][0:x].drop(axis=0, index=outliers), np.full((len(Data_all_avg)-len(outliers),), 1800000), 'Power (W)')"
      ],
      "execution_count": 56,
      "outputs": [
        {
          "output_type": "display_data",
          "data": {
            "image/png": "[encoded data removed]",
            "text/plain": [
              "<Figure size 1224x576 with 1 Axes>"
            ]
          },
          "metadata": {
            "tags": [],
            "needs_background": "light"
          }
        }
      ]
    },
    {
      "cell_type": "code",
      "metadata": {
        "id": "L_yYqBT90u8v"
      },
      "source": [
        "# Maybe use seaborn to have multiple axis and get better results\n",
        "\n",
        "def plot_variables(windspeed, power, temp2, rh, pres):\n",
        "    fig, axs = plt.subplots(3,2,figsize=(20,10))\n",
        "\n",
        "    axs[0,0].plot(windspeed, label='wind speed (m/s) @ 60m', color='green', linewidth='2')\n",
        "    axs[0,0].set_title('Wind Speed')\n",
        "    axs[0,0].set_ylabel('Wind Speed (m/s)')\n",
        "\n",
        "    axs[0,1].plot(power, label='power all (MW)', color='red', linewidth='2')\n",
        "    axs[0,1].set_title('Power')\n",
        "    axs[0,1].set_ylabel('Power All (MW)')\n",
        "\n",
        "    axs[1,0].plot(temp2, label='temp @ 2m (K)', color='orange', linewidth='2')\n",
        "    axs[1,0].set_title('Temp @ 2m')\n",
        "    axs[1,0].set_ylabel('Temp (K)')\n",
        "\n",
        "    axs[1,1].plot(rh, label='relative humidity', color='blue', linewidth='2')\n",
        "    axs[1,1].set_title('Relative Humidity @ 2m')\n",
        "    axs[1,1].set_ylabel('Relative Humidity')\n",
        "\n",
        "    axs[2,0].plot(pres, label='pressure (Pa)', color='purple', linewidth='2')\n",
        "    axs[2,0].set_title('Sea Level Pressure')\n",
        "    axs[2,0].set_ylabel('Sea Level Pressure (Pa)')\n",
        "\n",
        "    plt.show()"
      ],
      "execution_count": 57,
      "outputs": []
    },
    {
      "cell_type": "code",
      "metadata": {
        "id": "oGD12zAj0u_c",
        "colab": {
          "base_uri": "https://localhost:8080/",
          "height": 606
        },
        "outputId": "30e48284-5742-4522-fb0e-d946441fce26"
      },
      "source": [
        "#days\n",
        "x1=0\n",
        "x2=60\n",
        "outliers = [147]\n",
        "\n",
        "if x2 < 147 or x1 > 147:\n",
        "  plot_variables(Data_all_avg['Wind Speed (m/s) @ 60m'][x1:x2], Data_all_avg['Power All (MW)'][x1:x2], Data_all_avg['tmp2m (K)'][x1:x2], Data_all_avg['rh2m (%)'][x1:x2], Data_all_avg['Sea Level Pressure (Pa)'][x1:x2])\n",
        "else:\n",
        "  plot_variables(Data_all_avg['Wind Speed (m/s) @ 60m'][0:x].drop(axis=0, index=outliers), Data_all_avg['Power All (MW)'][0:x].drop(axis=0, index=outliers), Data_all_avg['tmp2m (K)'][0:x].drop(axis=0,index=outliers),\\\n",
        "                 Data_all_avg['rh2m (%)'][0:x].drop(axis=0, index=outliers), Data_all_avg['Sea Level Pressure (Pa)'][0:x].drop(axis=0, index=outliers))"
      ],
      "execution_count": 58,
      "outputs": [
        {
          "output_type": "display_data",
          "data": {
            "image/png": "[encoded data removed]",
            "text/plain": [
              "<Figure size 1440x720 with 6 Axes>"
            ]
          },
          "metadata": {
            "tags": [],
            "needs_background": "light"
          }
        }
      ]
    },
    {
      "cell_type": "code",
      "metadata": {
        "id": "GYZroX4v0Wr1"
      },
      "source": [
        "# Maybe use seaborn to have multiple axis and get better results\n",
        "\n",
        "def plot_variables2(windspeed, temp2, rh):\n",
        "    fig, axs = plt.subplots(2,2,figsize=(20,10))\n",
        "\n",
        "    axs[0,0].plot(windspeed, label='wind speed (m/s) @ 60m', color='green', linewidth='2')\n",
        "    axs[0,0].set_title('Wind Speed')\n",
        "    axs[0,0].set_ylabel('Wind Speed (m/s)')\n",
        "\n",
        "    axs[1,0].plot(temp2, label='temp @ 2m (K)', color='orange', linewidth='2')\n",
        "    axs[1,0].set_title('Temp @ 2m')\n",
        "    axs[1,0].set_ylabel('Temp (K)')\n",
        "\n",
        "    axs[0,1].plot(windspeed, label='wind speed (m/s) @ 60m', color='green', linewidth='2')\n",
        "    axs[0,1].set_title('Wind Speed')\n",
        "    axs[0,1].set_ylabel('Wind Speed (m/s)')\n",
        "\n",
        "    axs[1,1].plot(rh, label='relative humidity', color='blue', linewidth='2')\n",
        "    axs[1,1].set_title('Relative Humidity @ 2m')\n",
        "    axs[1,1].set_ylabel('Relative Humidity')\n",
        "\n",
        "    plt.show()"
      ],
      "execution_count": 59,
      "outputs": []
    },
    {
      "cell_type": "code",
      "metadata": {
        "colab": {
          "base_uri": "https://localhost:8080/",
          "height": 606
        },
        "id": "PESE-P1ZVvBe",
        "outputId": "eec6cc3d-f524-409f-8adb-9d5f1ba14041"
      },
      "source": [
        "#days\n",
        "x1=127\n",
        "x2=144\n",
        "outliers = [147]\n",
        "\n",
        "if x2 < 147 or x1 > 147:\n",
        "  plot_variables2(Data_all_avg['Wind Speed (m/s) @ 60m'][x1:x2], Data_all_avg['tmp2m (K)'][x1:x2], Data_all_avg['rh2m (%)'][x1:x2])\n",
        "else:\n",
        "  plot_variables2(Data_all_avg['Wind Speed (m/s) @ 60m'][0:x].drop(axis=0, index=outliers),Data_all_avg['tmp2m (K)'][0:x].drop(axis=0,index=outliers),\\\n",
        "                 Data_all_avg['rh2m (%)'][0:x].drop(axis=0, index=outliers))"
      ],
      "execution_count": 62,
      "outputs": [
        {
          "output_type": "display_data",
          "data": {
            "image/png": "[encoded data removed]",
            "text/plain": [
              "<Figure size 1440x720 with 4 Axes>"
            ]
          },
          "metadata": {
            "tags": [],
            "needs_background": "light"
          }
        }
      ]
    },
    {
      "cell_type": "code",
      "metadata": {
        "id": "i3_AgPPsl8d3"
      },
      "source": [
        ""
      ],
      "execution_count": null,
      "outputs": []
    }
  ]
}